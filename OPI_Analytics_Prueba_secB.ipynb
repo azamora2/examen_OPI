{
 "cells": [
  {
   "cell_type": "code",
   "execution_count": 194,
   "metadata": {},
   "outputs": [],
   "source": [
    "from pyspark.sql import SparkSession\n",
    "from pyspark.sql import functions as f\n",
    "from pyspark.sql.window import Window\n",
    "from pyspark.sql.functions import rank, col\n",
    "from pyspark.sql.functions import *\n",
    "import matplotlib.pyplot as plt\n",
    "import plotly.graph_objects as go"
   ]
  },
  {
   "cell_type": "code",
   "execution_count": null,
   "metadata": {},
   "outputs": [],
   "source": [
    "spark = SparkSession.builder.appName(\"OPI_Analytics_Pueba_SecB\").getOrCreate()"
   ]
  },
  {
   "cell_type": "code",
   "execution_count": 3,
   "metadata": {},
   "outputs": [
    {
     "name": "stdout",
     "output_type": "stream",
     "text": [
      "/home/jovyan/work\n"
     ]
    }
   ],
   "source": [
    "!pwd"
   ]
  },
  {
   "cell_type": "code",
   "execution_count": 4,
   "metadata": {},
   "outputs": [],
   "source": [
    "CSV_LOCATION = \"/home/jovyan/work/all_data.csv\""
   ]
  },
  {
   "cell_type": "code",
   "execution_count": 6,
   "metadata": {},
   "outputs": [],
   "source": [
    "df = spark.read.csv(CSV_LOCATION)"
   ]
  },
  {
   "cell_type": "code",
   "execution_count": 7,
   "metadata": {},
   "outputs": [
    {
     "name": "stdout",
     "output_type": "stream",
     "text": [
      "+--------------------+--------------------+--------------------+--------------------+-----------------+------+--------------------+------------------+--------------------+--------------------+--------------------+----------------+--------------------+--------+----------+\n",
      "|                 _c0|                 _c1|                 _c2|                 _c3|              _c4|   _c5|                 _c6|               _c7|                 _c8|                 _c9|                _c10|            _c11|                _c12|    _c13|      _c14|\n",
      "+--------------------+--------------------+--------------------+--------------------+-----------------+------+--------------------+------------------+--------------------+--------------------+--------------------+----------------+--------------------+--------+----------+\n",
      "|            producto|        presentacion|               marca|           categoria|         catalogo|precio|       fechaRegistro|   cadenaComercial|                giro|     nombreComercial|           direccion|          estado|           municipio| latitud|  longitud|\n",
      "|CUADERNO FORMA IT...|96 HOJAS PASTA DU...|            ESTRELLA|    MATERIAL ESCOLAR| UTILES ESCOLARES|  25.9|2011-05-18 00:00:...|ABASTECEDORA LUMEN|          PAPELERIAS|ABASTECEDORA LUME...|CANNES No. 6 ESQ....|DISTRITO FEDERAL|TLALPAN          ...|19.29699|-99.125417|\n",
      "|            CRAYONES|CAJA 12 CERAS. JU...|             CRAYOLA|    MATERIAL ESCOLAR| UTILES ESCOLARES|  27.5|2011-05-18 00:00:...|ABASTECEDORA LUMEN|          PAPELERIAS|ABASTECEDORA LUME...|CANNES No. 6 ESQ....|DISTRITO FEDERAL|TLALPAN          ...|19.29699|-99.125417|\n",
      "|            CRAYONES|CAJA 12 CERAS. TA...|             CRAYOLA|    MATERIAL ESCOLAR| UTILES ESCOLARES|  13.9|2011-05-18 00:00:...|ABASTECEDORA LUMEN|          PAPELERIAS|ABASTECEDORA LUME...|CANNES No. 6 ESQ....|DISTRITO FEDERAL|TLALPAN          ...|19.29699|-99.125417|\n",
      "|   COLORES DE MADERA|CAJA 12 PIEZAS LA...|            PINCELIN|    MATERIAL ESCOLAR| UTILES ESCOLARES|  46.9|2011-05-18 00:00:...|ABASTECEDORA LUMEN|          PAPELERIAS|ABASTECEDORA LUME...|CANNES No. 6 ESQ....|DISTRITO FEDERAL|TLALPAN          ...|19.29699|-99.125417|\n",
      "|         COLOR LARGO|CAJA 36 PIEZAS. C...|             CRAYOLA|    MATERIAL ESCOLAR| UTILES ESCOLARES|   115|2011-05-18 00:00:...|ABASTECEDORA LUMEN|          PAPELERIAS|ABASTECEDORA LUME...|CANNES No. 6 ESQ....|DISTRITO FEDERAL|TLALPAN          ...|19.29699|-99.125417|\n",
      "|           BOLIGRAFO|BLISTER 3 PIEZAS....|    BIC. CRISTAL GEL|    MATERIAL ESCOLAR| UTILES ESCOLARES|  32.5|2011-05-18 00:00:...|ABASTECEDORA LUMEN|          PAPELERIAS|ABASTECEDORA LUME...|CANNES No. 6 ESQ....|DISTRITO FEDERAL|TLALPAN          ...|19.29699|-99.125417|\n",
      "|      CINTA ADHESIVA|BOLSA 1 PIEZA. 12...|      SCOTCH 3M. 600|    MATERIAL ESCOLAR| UTILES ESCOLARES|     9|2011-05-18 00:00:...|ABASTECEDORA LUMEN|          PAPELERIAS|ABASTECEDORA LUME...|CANNES No. 6 ESQ....|DISTRITO FEDERAL|TLALPAN          ...|19.29699|-99.125417|\n",
      "|   COLORES DE MADERA|CAJA 24 PIEZAS. L...|      KORES. KOLORES|    MATERIAL ESCOLAR| UTILES ESCOLARES|  95.9|2011-05-18 00:00:...|ABASTECEDORA LUMEN|          PAPELERIAS|ABASTECEDORA LUME...|CANNES No. 6 ESQ....|DISTRITO FEDERAL|TLALPAN          ...|19.29699|-99.125417|\n",
      "|            CRAYONES|CAJA 24 CERAS. TA...|  PAPER MATE. CARMEN|    MATERIAL ESCOLAR| UTILES ESCOLARES|  23.2|2011-05-18 00:00:...|ABASTECEDORA LUMEN|          PAPELERIAS|ABASTECEDORA LUME...|CANNES No. 6 ESQ....|DISTRITO FEDERAL|TLALPAN          ...|19.29699|-99.125417|\n",
      "|  PAN BLANCO BOLILLO|               PIEZA|                 S/M|                 PAN|          BASICOS|   1.2|2011-01-10 00:00:...|COMERCIAL MEXICANA|TIENDA DE AUTOSER...|COMERCIAL MEXICAN...|AV. LAGO DE GUADA...|          MÉXICO|ATIZAPAN         ...|      NA|        NA|\n",
      "|    HARINA HOT CAKES|        CAJA 800 GR.|PRONTO TRADICIONALES|GALLETAS PASTAS Y...|          BASICOS| 21.63|2011-01-10 00:00:...|COMERCIAL MEXICANA|TIENDA DE AUTOSER...|COMERCIAL MEXICAN...|AV. LAGO DE GUADA...|          MÉXICO|ATIZAPAN         ...|      NA|        NA|\n",
      "|     PASTA PARA SOPA|PAQUETE 200 GR. S...|               VESTA|GALLETAS PASTAS Y...|          BASICOS|  3.45|2011-01-10 00:00:...|COMERCIAL MEXICANA|TIENDA DE AUTOSER...|COMERCIAL MEXICAN...|AV. LAGO DE GUADA...|          MÉXICO|ATIZAPAN         ...|      NA|        NA|\n",
      "|     GALLETAS DULCES|CAJA 652 GR. RICA...|              GAMESA|GALLETAS PASTAS Y...|          BASICOS| 21.77|2011-01-10 00:00:...|COMERCIAL MEXICANA|TIENDA DE AUTOSER...|COMERCIAL MEXICAN...|AV. LAGO DE GUADA...|          MÉXICO|ATIZAPAN         ...|      NA|        NA|\n",
      "|     GALLETAS DULCES|PAQUETE 280 GR. P...|            MARINELA|GALLETAS PASTAS Y...|          BASICOS|    13|2011-01-10 00:00:...|COMERCIAL MEXICANA|TIENDA DE AUTOSER...|COMERCIAL MEXICAN...|AV. LAGO DE GUADA...|          MÉXICO|ATIZAPAN         ...|      NA|        NA|\n",
      "|     GALLETAS DULCES|CAJA 752 GR. SAND...|             NABISCO|GALLETAS PASTAS Y...|          BASICOS| 41.97|2011-01-10 00:00:...|COMERCIAL MEXICANA|TIENDA DE AUTOSER...|COMERCIAL MEXICAN...|AV. LAGO DE GUADA...|          MÉXICO|ATIZAPAN         ...|      NA|        NA|\n",
      "|             SHAMPOO|BOTELLA 400 ML. P...|    HEAD & SHOULDERS|ARTS. PARA EL CUI...|          BASICOS|  49.9|2011-01-10 00:00:...|COMERCIAL MEXICANA|TIENDA DE AUTOSER...|COMERCIAL MEXICAN...|AV. LAGO DE GUADA...|          MÉXICO|ATIZAPAN         ...|      NA|        NA|\n",
      "| HORNO DE MICROONDAS|MS-1446 SQP O  MS...|                  LG| APARATOS ELECTRICOS|ELECTRODOMESTICOS|  1598|2011-01-10 00:00:...|COMERCIAL MEXICANA|TIENDA DE AUTOSER...|COMERCIAL MEXICAN...|AV. LAGO DE GUADA...|          MÉXICO|ATIZAPAN         ...|      NA|        NA|\n",
      "|ACONDICIONADOR Y ...|BOTELLA 300 ML. F...|             GARNIER|ARTS. PARA EL CUI...|          BASICOS|  39.9|2011-01-10 00:00:...|COMERCIAL MEXICANA|TIENDA DE AUTOSER...|COMERCIAL MEXICAN...|AV. LAGO DE GUADA...|          MÉXICO|ATIZAPAN         ...|      NA|        NA|\n",
      "|TINTE PARA EL CAB...|                CAJA|      REVITALIQUE. 4|ARTS. PARA EL CUI...|          BASICOS|    74|2011-01-10 00:00:...|COMERCIAL MEXICANA|TIENDA DE AUTOSER...|COMERCIAL MEXICAN...|AV. LAGO DE GUADA...|          MÉXICO|ATIZAPAN         ...|      NA|        NA|\n",
      "+--------------------+--------------------+--------------------+--------------------+-----------------+------+--------------------+------------------+--------------------+--------------------+--------------------+----------------+--------------------+--------+----------+\n",
      "only showing top 20 rows\n",
      "\n"
     ]
    }
   ],
   "source": [
    "df.show()"
   ]
  },
  {
   "cell_type": "code",
   "execution_count": 9,
   "metadata": {},
   "outputs": [
    {
     "name": "stdout",
     "output_type": "stream",
     "text": [
      "+--------------------+--------------------+--------------------+--------------------+-----------------+------+-------------------+------------------+--------------------+--------------------+--------------------+----------------+--------------------+--------+----------+\n",
      "|            producto|        presentacion|               marca|           categoria|         catalogo|precio|      fechaRegistro|   cadenaComercial|                giro|     nombreComercial|           direccion|          estado|           municipio| latitud|  longitud|\n",
      "+--------------------+--------------------+--------------------+--------------------+-----------------+------+-------------------+------------------+--------------------+--------------------+--------------------+----------------+--------------------+--------+----------+\n",
      "|CUADERNO FORMA IT...|96 HOJAS PASTA DU...|            ESTRELLA|    MATERIAL ESCOLAR| UTILES ESCOLARES|  25.9|2011-05-18 00:00:00|ABASTECEDORA LUMEN|          PAPELERIAS|ABASTECEDORA LUME...|CANNES No. 6 ESQ....|DISTRITO FEDERAL|TLALPAN          ...|19.29699|-99.125417|\n",
      "|            CRAYONES|CAJA 12 CERAS. JU...|             CRAYOLA|    MATERIAL ESCOLAR| UTILES ESCOLARES|  27.5|2011-05-18 00:00:00|ABASTECEDORA LUMEN|          PAPELERIAS|ABASTECEDORA LUME...|CANNES No. 6 ESQ....|DISTRITO FEDERAL|TLALPAN          ...|19.29699|-99.125417|\n",
      "|            CRAYONES|CAJA 12 CERAS. TA...|             CRAYOLA|    MATERIAL ESCOLAR| UTILES ESCOLARES|  13.9|2011-05-18 00:00:00|ABASTECEDORA LUMEN|          PAPELERIAS|ABASTECEDORA LUME...|CANNES No. 6 ESQ....|DISTRITO FEDERAL|TLALPAN          ...|19.29699|-99.125417|\n",
      "|   COLORES DE MADERA|CAJA 12 PIEZAS LA...|            PINCELIN|    MATERIAL ESCOLAR| UTILES ESCOLARES|  46.9|2011-05-18 00:00:00|ABASTECEDORA LUMEN|          PAPELERIAS|ABASTECEDORA LUME...|CANNES No. 6 ESQ....|DISTRITO FEDERAL|TLALPAN          ...|19.29699|-99.125417|\n",
      "|         COLOR LARGO|CAJA 36 PIEZAS. C...|             CRAYOLA|    MATERIAL ESCOLAR| UTILES ESCOLARES| 115.0|2011-05-18 00:00:00|ABASTECEDORA LUMEN|          PAPELERIAS|ABASTECEDORA LUME...|CANNES No. 6 ESQ....|DISTRITO FEDERAL|TLALPAN          ...|19.29699|-99.125417|\n",
      "|           BOLIGRAFO|BLISTER 3 PIEZAS....|    BIC. CRISTAL GEL|    MATERIAL ESCOLAR| UTILES ESCOLARES|  32.5|2011-05-18 00:00:00|ABASTECEDORA LUMEN|          PAPELERIAS|ABASTECEDORA LUME...|CANNES No. 6 ESQ....|DISTRITO FEDERAL|TLALPAN          ...|19.29699|-99.125417|\n",
      "|      CINTA ADHESIVA|BOLSA 1 PIEZA. 12...|      SCOTCH 3M. 600|    MATERIAL ESCOLAR| UTILES ESCOLARES|   9.0|2011-05-18 00:00:00|ABASTECEDORA LUMEN|          PAPELERIAS|ABASTECEDORA LUME...|CANNES No. 6 ESQ....|DISTRITO FEDERAL|TLALPAN          ...|19.29699|-99.125417|\n",
      "|   COLORES DE MADERA|CAJA 24 PIEZAS. L...|      KORES. KOLORES|    MATERIAL ESCOLAR| UTILES ESCOLARES|  95.9|2011-05-18 00:00:00|ABASTECEDORA LUMEN|          PAPELERIAS|ABASTECEDORA LUME...|CANNES No. 6 ESQ....|DISTRITO FEDERAL|TLALPAN          ...|19.29699|-99.125417|\n",
      "|            CRAYONES|CAJA 24 CERAS. TA...|  PAPER MATE. CARMEN|    MATERIAL ESCOLAR| UTILES ESCOLARES|  23.2|2011-05-18 00:00:00|ABASTECEDORA LUMEN|          PAPELERIAS|ABASTECEDORA LUME...|CANNES No. 6 ESQ....|DISTRITO FEDERAL|TLALPAN          ...|19.29699|-99.125417|\n",
      "|  PAN BLANCO BOLILLO|               PIEZA|                 S/M|                 PAN|          BASICOS|   1.2|2011-01-10 00:00:00|COMERCIAL MEXICANA|TIENDA DE AUTOSER...|COMERCIAL MEXICAN...|AV. LAGO DE GUADA...|          MÉXICO|ATIZAPAN         ...|      NA|        NA|\n",
      "|    HARINA HOT CAKES|        CAJA 800 GR.|PRONTO TRADICIONALES|GALLETAS PASTAS Y...|          BASICOS| 21.63|2011-01-10 00:00:00|COMERCIAL MEXICANA|TIENDA DE AUTOSER...|COMERCIAL MEXICAN...|AV. LAGO DE GUADA...|          MÉXICO|ATIZAPAN         ...|      NA|        NA|\n",
      "|     PASTA PARA SOPA|PAQUETE 200 GR. S...|               VESTA|GALLETAS PASTAS Y...|          BASICOS|  3.45|2011-01-10 00:00:00|COMERCIAL MEXICANA|TIENDA DE AUTOSER...|COMERCIAL MEXICAN...|AV. LAGO DE GUADA...|          MÉXICO|ATIZAPAN         ...|      NA|        NA|\n",
      "|     GALLETAS DULCES|CAJA 652 GR. RICA...|              GAMESA|GALLETAS PASTAS Y...|          BASICOS| 21.77|2011-01-10 00:00:00|COMERCIAL MEXICANA|TIENDA DE AUTOSER...|COMERCIAL MEXICAN...|AV. LAGO DE GUADA...|          MÉXICO|ATIZAPAN         ...|      NA|        NA|\n",
      "|     GALLETAS DULCES|PAQUETE 280 GR. P...|            MARINELA|GALLETAS PASTAS Y...|          BASICOS|  13.0|2011-01-10 00:00:00|COMERCIAL MEXICANA|TIENDA DE AUTOSER...|COMERCIAL MEXICAN...|AV. LAGO DE GUADA...|          MÉXICO|ATIZAPAN         ...|      NA|        NA|\n",
      "|     GALLETAS DULCES|CAJA 752 GR. SAND...|             NABISCO|GALLETAS PASTAS Y...|          BASICOS| 41.97|2011-01-10 00:00:00|COMERCIAL MEXICANA|TIENDA DE AUTOSER...|COMERCIAL MEXICAN...|AV. LAGO DE GUADA...|          MÉXICO|ATIZAPAN         ...|      NA|        NA|\n",
      "|             SHAMPOO|BOTELLA 400 ML. P...|    HEAD & SHOULDERS|ARTS. PARA EL CUI...|          BASICOS|  49.9|2011-01-10 00:00:00|COMERCIAL MEXICANA|TIENDA DE AUTOSER...|COMERCIAL MEXICAN...|AV. LAGO DE GUADA...|          MÉXICO|ATIZAPAN         ...|      NA|        NA|\n",
      "| HORNO DE MICROONDAS|MS-1446 SQP O  MS...|                  LG| APARATOS ELECTRICOS|ELECTRODOMESTICOS|1598.0|2011-01-10 00:00:00|COMERCIAL MEXICANA|TIENDA DE AUTOSER...|COMERCIAL MEXICAN...|AV. LAGO DE GUADA...|          MÉXICO|ATIZAPAN         ...|      NA|        NA|\n",
      "|ACONDICIONADOR Y ...|BOTELLA 300 ML. F...|             GARNIER|ARTS. PARA EL CUI...|          BASICOS|  39.9|2011-01-10 00:00:00|COMERCIAL MEXICANA|TIENDA DE AUTOSER...|COMERCIAL MEXICAN...|AV. LAGO DE GUADA...|          MÉXICO|ATIZAPAN         ...|      NA|        NA|\n",
      "|TINTE PARA EL CAB...|                CAJA|      REVITALIQUE. 4|ARTS. PARA EL CUI...|          BASICOS|  74.0|2011-01-10 00:00:00|COMERCIAL MEXICANA|TIENDA DE AUTOSER...|COMERCIAL MEXICAN...|AV. LAGO DE GUADA...|          MÉXICO|ATIZAPAN         ...|      NA|        NA|\n",
      "|TINTE PARA EL CAB...|                CAJA|  WELLA KOLESTON. 40|ARTS. PARA EL CUI...|          BASICOS|  58.9|2011-01-10 00:00:00|COMERCIAL MEXICANA|TIENDA DE AUTOSER...|COMERCIAL MEXICAN...|AV. LAGO DE GUADA...|          MÉXICO|ATIZAPAN         ...|      NA|        NA|\n",
      "+--------------------+--------------------+--------------------+--------------------+-----------------+------+-------------------+------------------+--------------------+--------------------+--------------------+----------------+--------------------+--------+----------+\n",
      "only showing top 20 rows\n",
      "\n"
     ]
    }
   ],
   "source": [
    "# Loading CSV file with proper parsing and inferSchema\n",
    "df = spark.read.csv(\n",
    "    path=CSV_LOCATION,\n",
    "    sep=\",\",\n",
    "    header=True,\n",
    "    quote='\"',\n",
    "    encoding=\"UTF-8\",\n",
    "    inferSchema=True,\n",
    ")\n",
    "\n",
    "# Displaying results of the load\n",
    "df.show()\n",
    "# df.printSchema()"
   ]
  },
  {
   "cell_type": "code",
   "execution_count": 12,
   "metadata": {},
   "outputs": [
    {
     "name": "stdout",
     "output_type": "stream",
     "text": [
      "+--------------------+--------------------+--------------------+--------------------+-----------------+------+-------------------+------------------+\n",
      "|            producto|        presentacion|               marca|           categoria|         catalogo|precio|      fechaRegistro|   cadenaComercial|\n",
      "+--------------------+--------------------+--------------------+--------------------+-----------------+------+-------------------+------------------+\n",
      "|CUADERNO FORMA IT...|96 HOJAS PASTA DU...|            ESTRELLA|    MATERIAL ESCOLAR| UTILES ESCOLARES|  25.9|2011-05-18 00:00:00|ABASTECEDORA LUMEN|\n",
      "|            CRAYONES|CAJA 12 CERAS. JU...|             CRAYOLA|    MATERIAL ESCOLAR| UTILES ESCOLARES|  27.5|2011-05-18 00:00:00|ABASTECEDORA LUMEN|\n",
      "|            CRAYONES|CAJA 12 CERAS. TA...|             CRAYOLA|    MATERIAL ESCOLAR| UTILES ESCOLARES|  13.9|2011-05-18 00:00:00|ABASTECEDORA LUMEN|\n",
      "|   COLORES DE MADERA|CAJA 12 PIEZAS LA...|            PINCELIN|    MATERIAL ESCOLAR| UTILES ESCOLARES|  46.9|2011-05-18 00:00:00|ABASTECEDORA LUMEN|\n",
      "|         COLOR LARGO|CAJA 36 PIEZAS. C...|             CRAYOLA|    MATERIAL ESCOLAR| UTILES ESCOLARES| 115.0|2011-05-18 00:00:00|ABASTECEDORA LUMEN|\n",
      "|           BOLIGRAFO|BLISTER 3 PIEZAS....|    BIC. CRISTAL GEL|    MATERIAL ESCOLAR| UTILES ESCOLARES|  32.5|2011-05-18 00:00:00|ABASTECEDORA LUMEN|\n",
      "|      CINTA ADHESIVA|BOLSA 1 PIEZA. 12...|      SCOTCH 3M. 600|    MATERIAL ESCOLAR| UTILES ESCOLARES|   9.0|2011-05-18 00:00:00|ABASTECEDORA LUMEN|\n",
      "|   COLORES DE MADERA|CAJA 24 PIEZAS. L...|      KORES. KOLORES|    MATERIAL ESCOLAR| UTILES ESCOLARES|  95.9|2011-05-18 00:00:00|ABASTECEDORA LUMEN|\n",
      "|            CRAYONES|CAJA 24 CERAS. TA...|  PAPER MATE. CARMEN|    MATERIAL ESCOLAR| UTILES ESCOLARES|  23.2|2011-05-18 00:00:00|ABASTECEDORA LUMEN|\n",
      "|  PAN BLANCO BOLILLO|               PIEZA|                 S/M|                 PAN|          BASICOS|   1.2|2011-01-10 00:00:00|COMERCIAL MEXICANA|\n",
      "|    HARINA HOT CAKES|        CAJA 800 GR.|PRONTO TRADICIONALES|GALLETAS PASTAS Y...|          BASICOS| 21.63|2011-01-10 00:00:00|COMERCIAL MEXICANA|\n",
      "|     PASTA PARA SOPA|PAQUETE 200 GR. S...|               VESTA|GALLETAS PASTAS Y...|          BASICOS|  3.45|2011-01-10 00:00:00|COMERCIAL MEXICANA|\n",
      "|     GALLETAS DULCES|CAJA 652 GR. RICA...|              GAMESA|GALLETAS PASTAS Y...|          BASICOS| 21.77|2011-01-10 00:00:00|COMERCIAL MEXICANA|\n",
      "|     GALLETAS DULCES|PAQUETE 280 GR. P...|            MARINELA|GALLETAS PASTAS Y...|          BASICOS|  13.0|2011-01-10 00:00:00|COMERCIAL MEXICANA|\n",
      "|     GALLETAS DULCES|CAJA 752 GR. SAND...|             NABISCO|GALLETAS PASTAS Y...|          BASICOS| 41.97|2011-01-10 00:00:00|COMERCIAL MEXICANA|\n",
      "|             SHAMPOO|BOTELLA 400 ML. P...|    HEAD & SHOULDERS|ARTS. PARA EL CUI...|          BASICOS|  49.9|2011-01-10 00:00:00|COMERCIAL MEXICANA|\n",
      "| HORNO DE MICROONDAS|MS-1446 SQP O  MS...|                  LG| APARATOS ELECTRICOS|ELECTRODOMESTICOS|1598.0|2011-01-10 00:00:00|COMERCIAL MEXICANA|\n",
      "|ACONDICIONADOR Y ...|BOTELLA 300 ML. F...|             GARNIER|ARTS. PARA EL CUI...|          BASICOS|  39.9|2011-01-10 00:00:00|COMERCIAL MEXICANA|\n",
      "|TINTE PARA EL CAB...|                CAJA|      REVITALIQUE. 4|ARTS. PARA EL CUI...|          BASICOS|  74.0|2011-01-10 00:00:00|COMERCIAL MEXICANA|\n",
      "|TINTE PARA EL CAB...|                CAJA|  WELLA KOLESTON. 40|ARTS. PARA EL CUI...|          BASICOS|  58.9|2011-01-10 00:00:00|COMERCIAL MEXICANA|\n",
      "+--------------------+--------------------+--------------------+--------------------+-----------------+------+-------------------+------------------+\n",
      "only showing top 20 rows\n",
      "\n"
     ]
    }
   ],
   "source": [
    "df[['producto','presentacion', 'marca', 'categoria', 'catalogo', 'precio', 'fechaRegistro', 'cadenaComercial']].show()"
   ]
  },
  {
   "cell_type": "code",
   "execution_count": 14,
   "metadata": {},
   "outputs": [
    {
     "name": "stdout",
     "output_type": "stream",
     "text": [
      "root\n",
      " |-- producto: string (nullable = true)\n",
      " |-- presentacion: string (nullable = true)\n",
      " |-- marca: string (nullable = true)\n",
      " |-- categoria: string (nullable = true)\n",
      " |-- catalogo: string (nullable = true)\n",
      " |-- precio: double (nullable = true)\n",
      " |-- fechaRegistro: timestamp (nullable = true)\n",
      " |-- cadenaComercial: string (nullable = true)\n",
      "\n"
     ]
    }
   ],
   "source": [
    "df[['producto','presentacion', 'marca', 'categoria', 'catalogo', 'precio', 'fechaRegistro', 'cadenaComercial']].printSchema()"
   ]
  },
  {
   "cell_type": "code",
   "execution_count": 13,
   "metadata": {},
   "outputs": [
    {
     "name": "stdout",
     "output_type": "stream",
     "text": [
      "+--------------------+--------------------+--------------------+----------------+--------------------+--------+----------+\n",
      "|                giro|     nombreComercial|           direccion|          estado|           municipio| latitud|  longitud|\n",
      "+--------------------+--------------------+--------------------+----------------+--------------------+--------+----------+\n",
      "|          PAPELERIAS|ABASTECEDORA LUME...|CANNES No. 6 ESQ....|DISTRITO FEDERAL|TLALPAN          ...|19.29699|-99.125417|\n",
      "|          PAPELERIAS|ABASTECEDORA LUME...|CANNES No. 6 ESQ....|DISTRITO FEDERAL|TLALPAN          ...|19.29699|-99.125417|\n",
      "|          PAPELERIAS|ABASTECEDORA LUME...|CANNES No. 6 ESQ....|DISTRITO FEDERAL|TLALPAN          ...|19.29699|-99.125417|\n",
      "|          PAPELERIAS|ABASTECEDORA LUME...|CANNES No. 6 ESQ....|DISTRITO FEDERAL|TLALPAN          ...|19.29699|-99.125417|\n",
      "|          PAPELERIAS|ABASTECEDORA LUME...|CANNES No. 6 ESQ....|DISTRITO FEDERAL|TLALPAN          ...|19.29699|-99.125417|\n",
      "|          PAPELERIAS|ABASTECEDORA LUME...|CANNES No. 6 ESQ....|DISTRITO FEDERAL|TLALPAN          ...|19.29699|-99.125417|\n",
      "|          PAPELERIAS|ABASTECEDORA LUME...|CANNES No. 6 ESQ....|DISTRITO FEDERAL|TLALPAN          ...|19.29699|-99.125417|\n",
      "|          PAPELERIAS|ABASTECEDORA LUME...|CANNES No. 6 ESQ....|DISTRITO FEDERAL|TLALPAN          ...|19.29699|-99.125417|\n",
      "|          PAPELERIAS|ABASTECEDORA LUME...|CANNES No. 6 ESQ....|DISTRITO FEDERAL|TLALPAN          ...|19.29699|-99.125417|\n",
      "|TIENDA DE AUTOSER...|COMERCIAL MEXICAN...|AV. LAGO DE GUADA...|          MÉXICO|ATIZAPAN         ...|      NA|        NA|\n",
      "|TIENDA DE AUTOSER...|COMERCIAL MEXICAN...|AV. LAGO DE GUADA...|          MÉXICO|ATIZAPAN         ...|      NA|        NA|\n",
      "|TIENDA DE AUTOSER...|COMERCIAL MEXICAN...|AV. LAGO DE GUADA...|          MÉXICO|ATIZAPAN         ...|      NA|        NA|\n",
      "|TIENDA DE AUTOSER...|COMERCIAL MEXICAN...|AV. LAGO DE GUADA...|          MÉXICO|ATIZAPAN         ...|      NA|        NA|\n",
      "|TIENDA DE AUTOSER...|COMERCIAL MEXICAN...|AV. LAGO DE GUADA...|          MÉXICO|ATIZAPAN         ...|      NA|        NA|\n",
      "|TIENDA DE AUTOSER...|COMERCIAL MEXICAN...|AV. LAGO DE GUADA...|          MÉXICO|ATIZAPAN         ...|      NA|        NA|\n",
      "|TIENDA DE AUTOSER...|COMERCIAL MEXICAN...|AV. LAGO DE GUADA...|          MÉXICO|ATIZAPAN         ...|      NA|        NA|\n",
      "|TIENDA DE AUTOSER...|COMERCIAL MEXICAN...|AV. LAGO DE GUADA...|          MÉXICO|ATIZAPAN         ...|      NA|        NA|\n",
      "|TIENDA DE AUTOSER...|COMERCIAL MEXICAN...|AV. LAGO DE GUADA...|          MÉXICO|ATIZAPAN         ...|      NA|        NA|\n",
      "|TIENDA DE AUTOSER...|COMERCIAL MEXICAN...|AV. LAGO DE GUADA...|          MÉXICO|ATIZAPAN         ...|      NA|        NA|\n",
      "|TIENDA DE AUTOSER...|COMERCIAL MEXICAN...|AV. LAGO DE GUADA...|          MÉXICO|ATIZAPAN         ...|      NA|        NA|\n",
      "+--------------------+--------------------+--------------------+----------------+--------------------+--------+----------+\n",
      "only showing top 20 rows\n",
      "\n"
     ]
    }
   ],
   "source": [
    "df[['giro','nombreComercial', 'direccion', 'estado', 'municipio', 'latitud', 'longitud']].show()"
   ]
  },
  {
   "cell_type": "code",
   "execution_count": 15,
   "metadata": {},
   "outputs": [
    {
     "name": "stdout",
     "output_type": "stream",
     "text": [
      "root\n",
      " |-- giro: string (nullable = true)\n",
      " |-- nombreComercial: string (nullable = true)\n",
      " |-- direccion: string (nullable = true)\n",
      " |-- estado: string (nullable = true)\n",
      " |-- municipio: string (nullable = true)\n",
      " |-- latitud: string (nullable = true)\n",
      " |-- longitud: string (nullable = true)\n",
      "\n"
     ]
    }
   ],
   "source": [
    "df[['giro','nombreComercial', 'direccion', 'estado', 'municipio', 'latitud', 'longitud']].printSchema()"
   ]
  },
  {
   "cell_type": "code",
   "execution_count": 17,
   "metadata": {},
   "outputs": [
    {
     "name": "stdout",
     "output_type": "stream",
     "text": [
      "+-------+--------------------+--------------------+--------------------+--------------------+----------------+------------------+----------------+\n",
      "|summary|            producto|        presentacion|               marca|           categoria|        catalogo|            precio| cadenaComercial|\n",
      "+-------+--------------------+--------------------+--------------------+--------------------+----------------+------------------+----------------+\n",
      "|  count|            62530695|            62530695|            62530695|            61643357|        62530467|          62530695|        62529511|\n",
      "|   mean|                null|   77442.23093432537|              1880.0|                null|            null| 516.5699223651386|            null|\n",
      "| stddev|                null|   47406.83284908752|                 0.0|                null|            null|1998.6208089030845|            null|\n",
      "|    min|\"PREMARIN. CREMA ...|# 6017872 O C.B. ...|'PAPER MATE. ERAS...|ACCESORIOS DOMEST...|         BASICOS|               0.1|        7 ELEVEN|\n",
      "|    max|             ZYPREXA|´0280808. PATIN/S...|             iO MABE|     VINOS Y LICORES|UTILES ESCOLARES|          299999.0|ZARAGOZA MUEBLES|\n",
      "+-------+--------------------+--------------------+--------------------+--------------------+----------------+------------------+----------------+\n",
      "\n"
     ]
    }
   ],
   "source": [
    "df[['producto','presentacion', 'marca', 'categoria', 'catalogo', 'precio', 'fechaRegistro', 'cadenaComercial']].describe().show()"
   ]
  },
  {
   "cell_type": "code",
   "execution_count": 18,
   "metadata": {},
   "outputs": [
    {
     "name": "stdout",
     "output_type": "stream",
     "text": [
      "+-------+--------------------+---------------+--------------------+--------------------+--------------+------------------+-------------------+\n",
      "|summary|                giro|nombreComercial|           direccion|              estado|     municipio|           latitud|           longitud|\n",
      "+-------+--------------------+---------------+--------------------+--------------------+--------------+------------------+-------------------+\n",
      "|  count|            62530428|       62530715|            62530715|            62515661|      62515661|          62493901|           62493901|\n",
      "|   mean|                null|           null|                null|                null|          null|23.734606174278234|-100.06933364693273|\n",
      "| stddev|                null|           null|                null|                null|          null|264.50453350424465|  10.82629771988107|\n",
      "|    min|ARTICULOS DEPORTIVOS|       7 ELEVEN|\"CALZ. LAZARO CAR...| COL. EDUARDO GUERRA|    CP. 27280\"|                 0|        -100.220247|\n",
      "|    max|                giro|nombreComercial|           direccion|              estado|ÁLVARO OBREGÓN|           latitud|           longitud|\n",
      "+-------+--------------------+---------------+--------------------+--------------------+--------------+------------------+-------------------+\n",
      "\n"
     ]
    }
   ],
   "source": [
    "df[['giro','nombreComercial', 'direccion', 'estado', 'municipio', 'latitud', 'longitud']].describe().show()"
   ]
  },
  {
   "cell_type": "markdown",
   "metadata": {},
   "source": [
    "### 1. Procesamiento de los datos"
   ]
  },
  {
   "cell_type": "markdown",
   "metadata": {},
   "source": [
    "### a. ¿Cuántos registros hay?"
   ]
  },
  {
   "cell_type": "code",
   "execution_count": 27,
   "metadata": {},
   "outputs": [
    {
     "data": {
      "text/plain": [
       "62530715"
      ]
     },
     "execution_count": 27,
     "metadata": {},
     "output_type": "execute_result"
    }
   ],
   "source": [
    "df.count()"
   ]
  },
  {
   "cell_type": "markdown",
   "metadata": {},
   "source": [
    "hay 62530715 registros"
   ]
  },
  {
   "cell_type": "markdown",
   "metadata": {},
   "source": [
    "### b. ¿Cuántas categorías?"
   ]
  },
  {
   "cell_type": "code",
   "execution_count": 25,
   "metadata": {},
   "outputs": [
    {
     "data": {
      "text/plain": [
       "42"
      ]
     },
     "execution_count": 25,
     "metadata": {},
     "output_type": "execute_result"
    }
   ],
   "source": [
    "df.select(\"categoria\").distinct().count()"
   ]
  },
  {
   "cell_type": "markdown",
   "metadata": {},
   "source": [
    "Hay 42 categorías ditintas."
   ]
  },
  {
   "cell_type": "markdown",
   "metadata": {},
   "source": [
    "### c. ¿Cuántas cadenas comerciales están siendo monitoreadas?"
   ]
  },
  {
   "cell_type": "code",
   "execution_count": 26,
   "metadata": {},
   "outputs": [
    {
     "data": {
      "text/plain": [
       "706"
      ]
     },
     "execution_count": 26,
     "metadata": {},
     "output_type": "execute_result"
    }
   ],
   "source": [
    "df.select(\"cadenaComercial\").distinct().count()"
   ]
  },
  {
   "cell_type": "markdown",
   "metadata": {},
   "source": [
    "706 Cadenas comerciales estan siendo monitoreadas."
   ]
  },
  {
   "cell_type": "markdown",
   "metadata": {},
   "source": [
    "### d. ¿Cómo podrías determinar la calidad de los datos? ¿Detectaste algún tipo de inconsistencia o error en la fuente?"
   ]
  },
  {
   "cell_type": "markdown",
   "metadata": {},
   "source": [
    "cuando corrí .describe().show() con la data me di cuenta que hay ciertas columnas con valores null lo cual no es ideal pero la calidad de los datos es buena. Otra cosa que detecté es que en el dataframe contiene estados que no son entidades de la Republica Mexicana. Lo cual se puede ver en el min y max de estados en el describe() que corrí."
   ]
  },
  {
   "cell_type": "markdown",
   "metadata": {},
   "source": [
    "### e. ¿Cuáles son los productos más monitoreados en cada entidad?"
   ]
  },
  {
   "cell_type": "code",
   "execution_count": 76,
   "metadata": {},
   "outputs": [],
   "source": [
    "df = df.filter((df.estado != 'null') & (df.estado != ' ESQ. SUR 125\"') & (df.estado != ' COL. EDUARDO GUERRA')& (df.estado != 'estado'))"
   ]
  },
  {
   "cell_type": "code",
   "execution_count": 77,
   "metadata": {},
   "outputs": [],
   "source": [
    "df_e = df.groupby('estado','producto').count().withColumnRenamed(\"count\", \"cantidad\")"
   ]
  },
  {
   "cell_type": "code",
   "execution_count": 78,
   "metadata": {},
   "outputs": [
    {
     "name": "stdout",
     "output_type": "stream",
     "text": [
      "+--------------------+--------------------+--------+\n",
      "|              estado|            producto|cantidad|\n",
      "+--------------------+--------------------+--------+\n",
      "|              MÉXICO|TINTE PARA EL CAB...|   44007|\n",
      "|              MÉXICO|         TELEVISORES|   29702|\n",
      "|              MÉXICO|              ACELGA|    7691|\n",
      "|              MÉXICO|       QUESO. COTIJA|    4414|\n",
      "|    DISTRITO FEDERAL|              AZUCAR|   18078|\n",
      "|              MÉXICO|      DESENFRIOL-ITO|     642|\n",
      "|             JALISCO|               ARROZ|   11735|\n",
      "|              OAXACA|PEDIALYTE. ELECTR...|     302|\n",
      "|            TLAXCALA|        AGUA SIN GAS|   14505|\n",
      "|VERACRUZ DE IGNAC...|              TOMATE|     652|\n",
      "| MICHOACÁN DE OCAMPO|         PAN DE CAJA|   13003|\n",
      "|             YUCATÁN|       FLAGENASE 400|     313|\n",
      "| MICHOACÁN DE OCAMPO|              ECTIVA|      39|\n",
      "|             YUCATÁN|        SALSA CATSUP|    6549|\n",
      "|             YUCATÁN|            CLAVULIN|     183|\n",
      "|             YUCATÁN|            CAPOTENA|     271|\n",
      "|             JALISCO|       FLAGENASE 400|     699|\n",
      "|             HIDALGO|              VERMOX|     121|\n",
      "|              OAXACA|       MAIZ POZOLERO|    1387|\n",
      "|              OAXACA|                 AJO|     783|\n",
      "+--------------------+--------------------+--------+\n",
      "only showing top 20 rows\n",
      "\n"
     ]
    }
   ],
   "source": [
    "df_e.show()"
   ]
  },
  {
   "cell_type": "code",
   "execution_count": 79,
   "metadata": {},
   "outputs": [],
   "source": [
    "window = Window.partitionBy(df_e['estado']).orderBy(df_e['cantidad'].desc())"
   ]
  },
  {
   "cell_type": "code",
   "execution_count": 80,
   "metadata": {},
   "outputs": [
    {
     "name": "stdout",
     "output_type": "stream",
     "text": [
      "+-------------------------------+-----------------------+--------+----+\n",
      "|estado                         |producto               |cantidad|rank|\n",
      "+-------------------------------+-----------------------+--------+----+\n",
      "|QUINTANA ROO                   |FUD                    |34846   |1   |\n",
      "|QUINTANA ROO                   |REFRESCO               |34367   |2   |\n",
      "|QUINTANA ROO                   |LAVADORAS              |32347   |3   |\n",
      "|NUEVO LEÓN                     |DETERGENTE P/ROPA      |50307   |1   |\n",
      "|NUEVO LEÓN                     |REFRESCO               |49592   |2   |\n",
      "|NUEVO LEÓN                     |LECHE ULTRAPASTEURIZADA|43803   |3   |\n",
      "|SINALOA                        |REFRESCO               |33115   |1   |\n",
      "|SINALOA                        |DETERGENTE P/ROPA      |27177   |2   |\n",
      "|SINALOA                        |SHAMPOO                |22435   |3   |\n",
      "|TABASCO                        |REFRESCO               |28754   |1   |\n",
      "|TABASCO                        |DETERGENTE P/ROPA      |26431   |2   |\n",
      "|TABASCO                        |LAVADORAS              |26361   |3   |\n",
      "|BAJA CALIFORNIA                |REFRESCO               |37243   |1   |\n",
      "|BAJA CALIFORNIA                |DETERGENTE P/ROPA      |23395   |2   |\n",
      "|BAJA CALIFORNIA                |FUD                    |19967   |3   |\n",
      "|TLAXCALA                       |REFRESCO               |43904   |1   |\n",
      "|TLAXCALA                       |DETERGENTE P/ROPA      |41398   |2   |\n",
      "|TLAXCALA                       |LECHE ULTRAPASTEURIZADA|32169   |3   |\n",
      "|COAHUILA DE ZARAGOZA           |FUD                    |28613   |1   |\n",
      "|COAHUILA DE ZARAGOZA           |REFRESCO               |26889   |2   |\n",
      "|COAHUILA DE ZARAGOZA           |DETERGENTE P/ROPA      |26595   |3   |\n",
      "|CHIAPAS                        |REFRESCO               |14452   |1   |\n",
      "|CHIAPAS                        |FUD                    |10417   |2   |\n",
      "|CHIAPAS                        |DETERGENTE P/ROPA      |8831    |3   |\n",
      "|VERACRUZ DE IGNACIO DE LA LLAVE|REFRESCO               |14576   |1   |\n",
      "|VERACRUZ DE IGNACIO DE LA LLAVE|LECHE ULTRAPASTEURIZADA|12051   |2   |\n",
      "|VERACRUZ DE IGNACIO DE LA LLAVE|DETERGENTE P/ROPA      |10345   |3   |\n",
      "|SONORA                         |REFRESCO               |34731   |1   |\n",
      "|SONORA                         |DETERGENTE P/ROPA      |31997   |2   |\n",
      "|SONORA                         |SHAMPOO                |24758   |3   |\n",
      "|YUCATÁN                        |LECHE ULTRAPASTEURIZADA|35991   |1   |\n",
      "|YUCATÁN                        |DETERGENTE P/ROPA      |33390   |2   |\n",
      "|YUCATÁN                        |REFRESCO               |33235   |3   |\n",
      "|MICHOACÁN DE OCAMPO            |DETERGENTE P/ROPA      |40144   |1   |\n",
      "|MICHOACÁN DE OCAMPO            |REFRESCO               |38016   |2   |\n",
      "|MICHOACÁN DE OCAMPO            |LECHE ULTRAPASTEURIZADA|31175   |3   |\n",
      "|DURANGO                        |DETERGENTE P/ROPA      |9696    |1   |\n",
      "|DURANGO                        |LAVADORAS              |9644    |2   |\n",
      "|DURANGO                        |FUD                    |8866    |3   |\n",
      "|GUERRERO                       |REFRESCO               |8932    |1   |\n",
      "|GUERRERO                       |FUD                    |8846    |2   |\n",
      "|GUERRERO                       |DETERGENTE P/ROPA      |6455    |3   |\n",
      "|NAYARIT                        |REFRESCO               |8003    |1   |\n",
      "|NAYARIT                        |PANTALLAS              |7083    |2   |\n",
      "|NAYARIT                        |FUD                    |6644    |3   |\n",
      "|CHIHUAHUA                      |DETERGENTE P/ROPA      |15982   |1   |\n",
      "|CHIHUAHUA                      |FUD                    |14348   |2   |\n",
      "|CHIHUAHUA                      |CHILES EN LATA         |14189   |3   |\n",
      "|DISTRITO FEDERAL               |REFRESCO               |287463  |1   |\n",
      "|DISTRITO FEDERAL               |FUD                    |207569  |2   |\n",
      "|DISTRITO FEDERAL               |LECHE ULTRAPASTEURIZADA|175640  |3   |\n",
      "|HIDALGO                        |REFRESCO               |18137   |1   |\n",
      "|HIDALGO                        |LAVADORAS              |16519   |2   |\n",
      "|HIDALGO                        |DETERGENTE P/ROPA      |15946   |3   |\n",
      "|ZACATECAS                      |DETERGENTE P/ROPA      |20884   |1   |\n",
      "|ZACATECAS                      |LECHE ULTRAPASTEURIZADA|17309   |2   |\n",
      "|ZACATECAS                      |LAVADORAS              |16072   |3   |\n",
      "|GUANAJUATO                     |REFRESCO               |49441   |1   |\n",
      "|GUANAJUATO                     |DETERGENTE P/ROPA      |36618   |2   |\n",
      "|GUANAJUATO                     |VARIOS                 |35278   |3   |\n",
      "|SAN LUIS POTOSÍ                |FUD                    |10164   |1   |\n",
      "|SAN LUIS POTOSÍ                |PANTALLAS              |8662    |2   |\n",
      "|SAN LUIS POTOSÍ                |LAVADORAS              |7934    |3   |\n",
      "|TAMAULIPAS                     |REFRESCO               |22457   |1   |\n",
      "|TAMAULIPAS                     |FUD                    |21113   |2   |\n",
      "|TAMAULIPAS                     |DETERGENTE P/ROPA      |20291   |3   |\n",
      "|MORELOS                        |REFRESCO               |9632    |1   |\n",
      "|MORELOS                        |FUD                    |6909    |2   |\n",
      "|MORELOS                        |DETERGENTE P/ROPA      |5829    |3   |\n",
      "|AGUASCALIENTES                 |FUD                    |12005   |1   |\n",
      "|AGUASCALIENTES                 |DETERGENTE P/ROPA      |10188   |2   |\n",
      "|AGUASCALIENTES                 |LECHE ULTRAPASTEURIZADA|9824    |3   |\n",
      "|OAXACA                         |LECHE ULTRAPASTEURIZADA|18078   |1   |\n",
      "|OAXACA                         |REFRESCO               |14501   |2   |\n",
      "|OAXACA                         |DETERGENTE P/ROPA      |14396   |3   |\n",
      "|PUEBLA                         |REFRESCO               |31597   |1   |\n",
      "|PUEBLA                         |LAVADORAS              |27076   |2   |\n",
      "|PUEBLA                         |LECHE ULTRAPASTEURIZADA|24864   |3   |\n",
      "|BAJA CALIFORNIA SUR            |REFRESCO               |27770   |1   |\n",
      "|BAJA CALIFORNIA SUR            |FUD                    |17776   |2   |\n",
      "|BAJA CALIFORNIA SUR            |PANTALLAS              |17383   |3   |\n",
      "|JALISCO                        |REFRESCO               |81718   |1   |\n",
      "|JALISCO                        |LECHE ULTRAPASTEURIZADA|81149   |2   |\n",
      "|JALISCO                        |DETERGENTE P/ROPA      |73854   |3   |\n",
      "|CAMPECHE                       |FUD                    |12960   |1   |\n",
      "|CAMPECHE                       |REFRESCO               |11333   |2   |\n",
      "|CAMPECHE                       |PANTALLAS              |10449   |3   |\n",
      "|QUERÉTARO                      |LECHE ULTRAPASTEURIZADA|27868   |1   |\n",
      "|QUERÉTARO                      |DETERGENTE P/ROPA      |26700   |2   |\n",
      "|QUERÉTARO                      |REFRESCO               |25494   |3   |\n",
      "|COLIMA                         |DETERGENTE P/ROPA      |17193   |1   |\n",
      "|COLIMA                         |LECHE ULTRAPASTEURIZADA|14425   |2   |\n",
      "|COLIMA                         |REFRESCO               |14383   |3   |\n",
      "|MÉXICO                         |REFRESCO               |194939  |1   |\n",
      "|MÉXICO                         |FUD                    |149141  |2   |\n",
      "|MÉXICO                         |DETERGENTE P/ROPA      |132862  |3   |\n",
      "+-------------------------------+-----------------------+--------+----+\n",
      "\n"
     ]
    }
   ],
   "source": [
    "df_e.select('*', rank().over(window).alias('rank')).filter(col('rank') <= 3).show(120, truncate = False) "
   ]
  },
  {
   "cell_type": "markdown",
   "metadata": {},
   "source": [
    "### f. ¿Cuál es la cadena comercial con mayor variedad de productos monitoreados?"
   ]
  },
  {
   "cell_type": "code",
   "execution_count": 81,
   "metadata": {},
   "outputs": [],
   "source": [
    "df_f = df.groupby('cadenaComercial')\\\n",
    "                    .agg(f.countDistinct(\"producto\").alias(\"Productos_Monitorieados\"))\\\n",
    "                    .sort(\"Productos_Monitorieados\", ascending = False)"
   ]
  },
  {
   "cell_type": "code",
   "execution_count": 82,
   "metadata": {},
   "outputs": [
    {
     "name": "stdout",
     "output_type": "stream",
     "text": [
      "+--------------------+-----------------------+\n",
      "|     cadenaComercial|Productos_Monitorieados|\n",
      "+--------------------+-----------------------+\n",
      "|             SORIANA|                   1059|\n",
      "|            WAL-MART|                   1051|\n",
      "|MEGA COMERCIAL ME...|                   1049|\n",
      "|  COMERCIAL MEXICANA|                   1036|\n",
      "|            CHEDRAUI|                   1026|\n",
      "|     MERCADO SORIANA|                   1024|\n",
      "|      BODEGA AURRERA|                   1012|\n",
      "|HIPERMERCADO SORIANA|                   1006|\n",
      "|              H.E.B.|                   1001|\n",
      "|        SORIANA PLUS|                    999|\n",
      "|       SORIANA SUPER|                    996|\n",
      "|BODEGA COMERCIAL ...|                    979|\n",
      "|        I.S.S.S.T.E.|                    937|\n",
      "|            SUPERAMA|                    936|\n",
      "|              S MART|                    851|\n",
      "|SUPERMERCADOS SAN...|                    849|\n",
      "|              SUMESA|                    848|\n",
      "|         CITY MARKET|                    844|\n",
      "|FARMACIA GUADALAJARA|                    819|\n",
      "|            CASA LEY|                    808|\n",
      "+--------------------+-----------------------+\n",
      "only showing top 20 rows\n",
      "\n"
     ]
    }
   ],
   "source": [
    "df_f.show()"
   ]
  },
  {
   "cell_type": "markdown",
   "metadata": {},
   "source": [
    "Soriana monitoreando 1059 productos"
   ]
  },
  {
   "cell_type": "markdown",
   "metadata": {},
   "source": [
    "### 2. Análisis exploratorio"
   ]
  },
  {
   "cell_type": "markdown",
   "metadata": {},
   "source": [
    "### a. Genera una canasta de productos básicos que te permita comparar los precios geográfica y temporalmente. Justifica tu elección y procedimiento"
   ]
  },
  {
   "cell_type": "code",
   "execution_count": 93,
   "metadata": {},
   "outputs": [],
   "source": [
    "df.select('producto').distinct().toPandas().to_csv('productos_distintos.csv')"
   ]
  },
  {
   "cell_type": "code",
   "execution_count": 94,
   "metadata": {},
   "outputs": [],
   "source": [
    "basic_basket = df.select('producto').distinct().toPandas()"
   ]
  },
  {
   "cell_type": "code",
   "execution_count": 95,
   "metadata": {},
   "outputs": [
    {
     "data": {
      "text/html": [
       "<div>\n",
       "<style scoped>\n",
       "    .dataframe tbody tr th:only-of-type {\n",
       "        vertical-align: middle;\n",
       "    }\n",
       "\n",
       "    .dataframe tbody tr th {\n",
       "        vertical-align: top;\n",
       "    }\n",
       "\n",
       "    .dataframe thead th {\n",
       "        text-align: right;\n",
       "    }\n",
       "</style>\n",
       "<table border=\"1\" class=\"dataframe\">\n",
       "  <thead>\n",
       "    <tr style=\"text-align: right;\">\n",
       "      <th></th>\n",
       "      <th>producto</th>\n",
       "    </tr>\n",
       "  </thead>\n",
       "  <tbody>\n",
       "    <tr>\n",
       "      <th>0</th>\n",
       "      <td>VARIOS</td>\n",
       "    </tr>\n",
       "    <tr>\n",
       "      <th>1</th>\n",
       "      <td>LUTORAL</td>\n",
       "    </tr>\n",
       "    <tr>\n",
       "      <th>2</th>\n",
       "      <td>GYNOVIN</td>\n",
       "    </tr>\n",
       "    <tr>\n",
       "      <th>3</th>\n",
       "      <td>KAOMYCIN</td>\n",
       "    </tr>\n",
       "    <tr>\n",
       "      <th>4</th>\n",
       "      <td>PIERNA</td>\n",
       "    </tr>\n",
       "    <tr>\n",
       "      <th>5</th>\n",
       "      <td>BEDOYECTA</td>\n",
       "    </tr>\n",
       "    <tr>\n",
       "      <th>6</th>\n",
       "      <td>PRAVASTATINA</td>\n",
       "    </tr>\n",
       "    <tr>\n",
       "      <th>7</th>\n",
       "      <td>FRIJOLES</td>\n",
       "    </tr>\n",
       "    <tr>\n",
       "      <th>8</th>\n",
       "      <td>SAN RAFAEL. REAL</td>\n",
       "    </tr>\n",
       "    <tr>\n",
       "      <th>9</th>\n",
       "      <td>ACEITUNA. GORDAL</td>\n",
       "    </tr>\n",
       "    <tr>\n",
       "      <th>10</th>\n",
       "      <td>GARBANZA</td>\n",
       "    </tr>\n",
       "    <tr>\n",
       "      <th>11</th>\n",
       "      <td>FOLDERS</td>\n",
       "    </tr>\n",
       "    <tr>\n",
       "      <th>12</th>\n",
       "      <td>FILETE DE RES</td>\n",
       "    </tr>\n",
       "    <tr>\n",
       "      <th>13</th>\n",
       "      <td>CAFE TOSTADO Y MOLIDO</td>\n",
       "    </tr>\n",
       "    <tr>\n",
       "      <th>14</th>\n",
       "      <td>MYCOSPOR</td>\n",
       "    </tr>\n",
       "    <tr>\n",
       "      <th>15</th>\n",
       "      <td>COMPAS</td>\n",
       "    </tr>\n",
       "    <tr>\n",
       "      <th>16</th>\n",
       "      <td>AMARYL M</td>\n",
       "    </tr>\n",
       "    <tr>\n",
       "      <th>17</th>\n",
       "      <td>CALCIGENOL DOBLE</td>\n",
       "    </tr>\n",
       "    <tr>\n",
       "      <th>18</th>\n",
       "      <td>GRANEODIN</td>\n",
       "    </tr>\n",
       "    <tr>\n",
       "      <th>19</th>\n",
       "      <td>GAMMADOL</td>\n",
       "    </tr>\n",
       "    <tr>\n",
       "      <th>20</th>\n",
       "      <td>ESTUFAS</td>\n",
       "    </tr>\n",
       "    <tr>\n",
       "      <th>21</th>\n",
       "      <td>COLIFLOR</td>\n",
       "    </tr>\n",
       "    <tr>\n",
       "      <th>22</th>\n",
       "      <td>FLAN</td>\n",
       "    </tr>\n",
       "    <tr>\n",
       "      <th>23</th>\n",
       "      <td>GLIBENCLAMIDA</td>\n",
       "    </tr>\n",
       "    <tr>\n",
       "      <th>24</th>\n",
       "      <td>LACTACYD</td>\n",
       "    </tr>\n",
       "    <tr>\n",
       "      <th>25</th>\n",
       "      <td>CEBOLLA</td>\n",
       "    </tr>\n",
       "    <tr>\n",
       "      <th>26</th>\n",
       "      <td>AUTOPISTAS</td>\n",
       "    </tr>\n",
       "    <tr>\n",
       "      <th>27</th>\n",
       "      <td>COCINERO</td>\n",
       "    </tr>\n",
       "    <tr>\n",
       "      <th>28</th>\n",
       "      <td>TENHUAYACA</td>\n",
       "    </tr>\n",
       "    <tr>\n",
       "      <th>29</th>\n",
       "      <td>CONTROLIP</td>\n",
       "    </tr>\n",
       "    <tr>\n",
       "      <th>...</th>\n",
       "      <td>...</td>\n",
       "    </tr>\n",
       "    <tr>\n",
       "      <th>1076</th>\n",
       "      <td>RAYA</td>\n",
       "    </tr>\n",
       "    <tr>\n",
       "      <th>1077</th>\n",
       "      <td>FISOPRED</td>\n",
       "    </tr>\n",
       "    <tr>\n",
       "      <th>1078</th>\n",
       "      <td>DICLOFENACO. VITAMINAS B1, B6 Y B13</td>\n",
       "    </tr>\n",
       "    <tr>\n",
       "      <th>1079</th>\n",
       "      <td>ACELGA</td>\n",
       "    </tr>\n",
       "    <tr>\n",
       "      <th>1080</th>\n",
       "      <td>DALACIN C</td>\n",
       "    </tr>\n",
       "    <tr>\n",
       "      <th>1081</th>\n",
       "      <td>HISTIACIL FLU</td>\n",
       "    </tr>\n",
       "    <tr>\n",
       "      <th>1082</th>\n",
       "      <td>CIRUELA</td>\n",
       "    </tr>\n",
       "    <tr>\n",
       "      <th>1083</th>\n",
       "      <td>TENORETIC</td>\n",
       "    </tr>\n",
       "    <tr>\n",
       "      <th>1084</th>\n",
       "      <td>MONTELUKAST</td>\n",
       "    </tr>\n",
       "    <tr>\n",
       "      <th>1085</th>\n",
       "      <td>AKINETON</td>\n",
       "    </tr>\n",
       "    <tr>\n",
       "      <th>1086</th>\n",
       "      <td>MANTECA DE CERDO</td>\n",
       "    </tr>\n",
       "    <tr>\n",
       "      <th>1087</th>\n",
       "      <td>ECTIVA</td>\n",
       "    </tr>\n",
       "    <tr>\n",
       "      <th>1088</th>\n",
       "      <td>MELOX PLUS CEREZA</td>\n",
       "    </tr>\n",
       "    <tr>\n",
       "      <th>1089</th>\n",
       "      <td>TELEVISORES</td>\n",
       "    </tr>\n",
       "    <tr>\n",
       "      <th>1090</th>\n",
       "      <td>INSULINA</td>\n",
       "    </tr>\n",
       "    <tr>\n",
       "      <th>1091</th>\n",
       "      <td>JUEGOS DE MESA</td>\n",
       "    </tr>\n",
       "    <tr>\n",
       "      <th>1092</th>\n",
       "      <td>AIRES ACONDICIONADOS</td>\n",
       "    </tr>\n",
       "    <tr>\n",
       "      <th>1093</th>\n",
       "      <td>SINGULAIR</td>\n",
       "    </tr>\n",
       "    <tr>\n",
       "      <th>1094</th>\n",
       "      <td>CREMA SOLIDA</td>\n",
       "    </tr>\n",
       "    <tr>\n",
       "      <th>1095</th>\n",
       "      <td>AVELOX 7D</td>\n",
       "    </tr>\n",
       "    <tr>\n",
       "      <th>1096</th>\n",
       "      <td>VIVA</td>\n",
       "    </tr>\n",
       "    <tr>\n",
       "      <th>1097</th>\n",
       "      <td>BENCILPENICILINA PROCAINICA</td>\n",
       "    </tr>\n",
       "    <tr>\n",
       "      <th>1098</th>\n",
       "      <td>BIOMETRIX</td>\n",
       "    </tr>\n",
       "    <tr>\n",
       "      <th>1099</th>\n",
       "      <td>AMBROXOL DEXTROMETORFANO</td>\n",
       "    </tr>\n",
       "    <tr>\n",
       "      <th>1100</th>\n",
       "      <td>METICORTEN</td>\n",
       "    </tr>\n",
       "    <tr>\n",
       "      <th>1101</th>\n",
       "      <td>PECHUGA DE PAVO</td>\n",
       "    </tr>\n",
       "    <tr>\n",
       "      <th>1102</th>\n",
       "      <td>DIPROSPAN HYPAK</td>\n",
       "    </tr>\n",
       "    <tr>\n",
       "      <th>1103</th>\n",
       "      <td>PLUMINES</td>\n",
       "    </tr>\n",
       "    <tr>\n",
       "      <th>1104</th>\n",
       "      <td>DAFLON</td>\n",
       "    </tr>\n",
       "    <tr>\n",
       "      <th>1105</th>\n",
       "      <td>HYZAAR</td>\n",
       "    </tr>\n",
       "  </tbody>\n",
       "</table>\n",
       "<p>1106 rows × 1 columns</p>\n",
       "</div>"
      ],
      "text/plain": [
       "                                 producto\n",
       "0                                  VARIOS\n",
       "1                                 LUTORAL\n",
       "2                                 GYNOVIN\n",
       "3                                KAOMYCIN\n",
       "4                                  PIERNA\n",
       "5                               BEDOYECTA\n",
       "6                            PRAVASTATINA\n",
       "7                                FRIJOLES\n",
       "8                        SAN RAFAEL. REAL\n",
       "9                        ACEITUNA. GORDAL\n",
       "10                               GARBANZA\n",
       "11                                FOLDERS\n",
       "12                          FILETE DE RES\n",
       "13                  CAFE TOSTADO Y MOLIDO\n",
       "14                               MYCOSPOR\n",
       "15                                 COMPAS\n",
       "16                               AMARYL M\n",
       "17                       CALCIGENOL DOBLE\n",
       "18                              GRANEODIN\n",
       "19                               GAMMADOL\n",
       "20                                ESTUFAS\n",
       "21                               COLIFLOR\n",
       "22                                   FLAN\n",
       "23                          GLIBENCLAMIDA\n",
       "24                               LACTACYD\n",
       "25                                CEBOLLA\n",
       "26                             AUTOPISTAS\n",
       "27                               COCINERO\n",
       "28                             TENHUAYACA\n",
       "29                              CONTROLIP\n",
       "...                                   ...\n",
       "1076                                 RAYA\n",
       "1077                             FISOPRED\n",
       "1078  DICLOFENACO. VITAMINAS B1, B6 Y B13\n",
       "1079                               ACELGA\n",
       "1080                            DALACIN C\n",
       "1081                        HISTIACIL FLU\n",
       "1082                              CIRUELA\n",
       "1083                            TENORETIC\n",
       "1084                          MONTELUKAST\n",
       "1085                             AKINETON\n",
       "1086                     MANTECA DE CERDO\n",
       "1087                               ECTIVA\n",
       "1088                    MELOX PLUS CEREZA\n",
       "1089                          TELEVISORES\n",
       "1090                             INSULINA\n",
       "1091                       JUEGOS DE MESA\n",
       "1092                 AIRES ACONDICIONADOS\n",
       "1093                            SINGULAIR\n",
       "1094                         CREMA SOLIDA\n",
       "1095                            AVELOX 7D\n",
       "1096                                 VIVA\n",
       "1097          BENCILPENICILINA PROCAINICA\n",
       "1098                            BIOMETRIX\n",
       "1099             AMBROXOL DEXTROMETORFANO\n",
       "1100                           METICORTEN\n",
       "1101                      PECHUGA DE PAVO\n",
       "1102                      DIPROSPAN HYPAK\n",
       "1103                             PLUMINES\n",
       "1104                               DAFLON\n",
       "1105                               HYZAAR\n",
       "\n",
       "[1106 rows x 1 columns]"
      ]
     },
     "execution_count": 95,
     "metadata": {},
     "output_type": "execute_result"
    }
   ],
   "source": [
    "basic_basket"
   ]
  },
  {
   "cell_type": "markdown",
   "metadata": {},
   "source": [
    "Escogí productos de la canasta básica del sitio oficial del gobierno de México: https://www.gob.mx/canastabasica"
   ]
  },
  {
   "cell_type": "markdown",
   "metadata": {},
   "source": [
    "A continuación está la canasta básica:"
   ]
  },
  {
   "cell_type": "markdown",
   "metadata": {},
   "source": [
    "[TORTILLA DE MAIZ, HARINA DE MAIZ, TOSTADAS DE MAIZ, FRIJOLES, ARROZ, AZUCAR, ACEITE, ATUN, SARDINA, LECHE EN POLVO, LECHE PASTEURIZADA, CHILES, CHILES EN LATA, CAFE SOLUBLE, SAL MOLIDA DE MESA, AVENA, PASTA PARA SOPA, HARINA DE TRIGO, CHOCOLATE EN TABLILLAS, GALLETAS,  GALLETAS DULCES, GALLETAS SALADAS, JABON DE PASTA, JABON DE TOCADOR, PAPEL HIGIENICO, DETERGENTE P/ROPA, DETERGENTE PARA ROPA Y TRASTES, DETERGENTE P/ROPA Y TRASTES, DETERGENTE P/TRASTES, CREMA DENTAL, CARNE RES, CARNE CERDO, CARNE POLLO, PAN DE CAJA, HUEVO, PESCADO SECO SALADO, AGUA SIN GAS, CACAHUATES, PURE DE TOMATE, FRUTAS CUBIERTAS, JAMAICA, TAMARINDO, GELATINA EN POLVO, CHICHAROS, SALSA DE SOYA, PILAS ELECTRICAS, JITOMATE, LECHUGA, CEBOLLA, ZANAHORIA, BROCOLI]"
   ]
  },
  {
   "cell_type": "markdown",
   "metadata": {},
   "source": [
    "### b. ¿Cuál es la ciudad más cara del país?¿Cuál es la más barata?\n"
   ]
  },
  {
   "cell_type": "code",
   "execution_count": 100,
   "metadata": {},
   "outputs": [],
   "source": [
    "canasta_basica = ['TORTILLA DE MAIZ', 'HARINA DE MAIZ', 'TOSTADAS DE MAIZ', 'FRIJOLES', 'ARROZ', 'AZUCAR', 'ACEITE', 'ATUN', 'SARDINA', 'LECHE EN POLVO', 'LECHE PASTEURIZADA',\\\n",
    "                  'CHILES', 'CHILES EN LATA', 'CAFE SOLUBLE', 'SAL MOLIDA DE MESA', 'AVENA', 'PASTA PARA SOPA', 'HARINA DE TRIGO', 'CHOCOLATE EN TABLILLAS', 'GALLETAS',\\\n",
    "                  'GALLETAS DULCES', 'GALLETAS SALADAS', 'JABON DE PASTA', 'JABON DE TOCADOR', 'PAPEL HIGIENICO', 'DETERGENTE P/ROPA', 'DETERGENTE PARA ROPA Y TRASTES',\\\n",
    "                  'DETERGENTE P/ROPA Y TRASTES', 'DETERGENTE P/TRASTES', 'CREMA DENTAL', 'CARNE RES', 'CARNE CERDO', 'CARNE POLLO', 'PAN DE CAJA', 'HUEVO', 'PESCADO SECO SALADO',\\\n",
    "                  'AGUA SIN GAS', 'CACAHUATES', 'PURE DE TOMATE', 'FRUTAS CUBIERTAS', 'JAMAICA', 'TAMARINDO', 'GELATINA EN POLVO', 'CHICHAROS', 'SALSA DE SOYA',\\\n",
    "                  'PILAS ELECTRICAS', 'JITOMATE', 'LECHUGA', 'CEBOLLA', 'ZANAHORIA', 'BROCOLI']"
   ]
  },
  {
   "cell_type": "code",
   "execution_count": 143,
   "metadata": {},
   "outputs": [
    {
     "data": {
      "text/plain": [
       "51"
      ]
     },
     "execution_count": 143,
     "metadata": {},
     "output_type": "execute_result"
    }
   ],
   "source": [
    "len(canasta_basica)"
   ]
  },
  {
   "cell_type": "code",
   "execution_count": 113,
   "metadata": {},
   "outputs": [
    {
     "name": "stdout",
     "output_type": "stream",
     "text": [
      "+--------+------------+-----+---------+--------+------+-------------+---------------+----+---------------+---------+------+---------+-------+--------+\n",
      "|producto|presentacion|marca|categoria|catalogo|precio|fechaRegistro|cadenaComercial|giro|nombreComercial|direccion|estado|municipio|latitud|longitud|\n",
      "+--------+------------+-----+---------+--------+------+-------------+---------------+----+---------------+---------+------+---------+-------+--------+\n",
      "+--------+------------+-----+---------+--------+------+-------------+---------------+----+---------------+---------+------+---------+-------+--------+\n",
      "\n"
     ]
    }
   ],
   "source": [
    "df.filter(col('fechaRegistro') >= to_timestamp(lit('2020-01-01 00:00:00'),'yyyy-MM-dd HH:mm:ss')).show()\n",
    "# df.join(dates_df, \n",
    "#   on=col('dates_df.dates').between(col('df.bookindDt'), col('dt.arrivalDt'))\n",
    "# .select('df.*', 'dates_df.dates')"
   ]
  },
  {
   "cell_type": "code",
   "execution_count": 119,
   "metadata": {},
   "outputs": [
    {
     "name": "stdout",
     "output_type": "stream",
     "text": [
      "+-------------------+\n",
      "| min(fechaRegistro)|\n",
      "+-------------------+\n",
      "|2011-01-03 00:00:00|\n",
      "+-------------------+\n",
      "\n"
     ]
    }
   ],
   "source": [
    "df.agg(min(\"fechaRegistro\")).show()"
   ]
  },
  {
   "cell_type": "code",
   "execution_count": 118,
   "metadata": {},
   "outputs": [
    {
     "name": "stdout",
     "output_type": "stream",
     "text": [
      "+-------------------+\n",
      "| max(fechaRegistro)|\n",
      "+-------------------+\n",
      "|2016-04-29 17:47:24|\n",
      "+-------------------+\n",
      "\n"
     ]
    }
   ],
   "source": [
    "df.agg(max(\"fechaRegistro\")).show()"
   ]
  },
  {
   "cell_type": "markdown",
   "metadata": {},
   "source": [
    "Iba a usar el año mas reciente de los datos pero como la fecha más reciente es de hace 5 años entonces usaré todos los datos para determinar cual es la ciudad más cara y la más barata"
   ]
  },
  {
   "cell_type": "code",
   "execution_count": null,
   "metadata": {},
   "outputs": [],
   "source": [
    "df_2020 = "
   ]
  },
  {
   "cell_type": "markdown",
   "metadata": {},
   "source": [
    "En la linea de abajo hacemos un filtro para quedarnos con los productos que identificamos que solo eran de la canasta básica."
   ]
  },
  {
   "cell_type": "code",
   "execution_count": 123,
   "metadata": {},
   "outputs": [],
   "source": [
    "df_2b = df.filter(f.col(\"producto\").isin(canasta_basica))"
   ]
  },
  {
   "cell_type": "code",
   "execution_count": 126,
   "metadata": {},
   "outputs": [
    {
     "data": {
      "text/plain": [
       "11764848"
      ]
     },
     "execution_count": 126,
     "metadata": {},
     "output_type": "execute_result"
    }
   ],
   "source": [
    "df_2b.count()"
   ]
  },
  {
   "cell_type": "markdown",
   "metadata": {},
   "source": [
    "Primero conseguimos el precio promedio de todos los productos por municipio."
   ]
  },
  {
   "cell_type": "code",
   "execution_count": 149,
   "metadata": {},
   "outputs": [],
   "source": [
    "df_2b_p1 = df_2b.groupby(\"municipio\", \"producto\").agg(f.avg(\"precio\").alias(\"precios\"))"
   ]
  },
  {
   "cell_type": "markdown",
   "metadata": {},
   "source": [
    "Como hay municipios con menos productos de la canasta básica que otros entonces solo vamos a comparar los municipios cuyos datos estén completos."
   ]
  },
  {
   "cell_type": "code",
   "execution_count": 150,
   "metadata": {},
   "outputs": [],
   "source": [
    "counts = df_2b.groupby(\"municipio\", \"producto\").count()"
   ]
  },
  {
   "cell_type": "code",
   "execution_count": 151,
   "metadata": {},
   "outputs": [],
   "source": [
    "df_2b_p1 = df_2b_p1.join(counts, [\"municipio\", \"producto\"])"
   ]
  },
  {
   "cell_type": "code",
   "execution_count": 152,
   "metadata": {},
   "outputs": [
    {
     "name": "stdout",
     "output_type": "stream",
     "text": [
      "+--------------------+--------------------+------------------+-----+\n",
      "|           municipio|            producto|           precios|count|\n",
      "+--------------------+--------------------+------------------+-----+\n",
      "|ALVARO OBREGON   ...|      CHILES EN LATA| 8.592256044529481| 5749|\n",
      "|             APIZACO|      HARINA DE MAIZ|10.589285714285717|  322|\n",
      "|             APIZACO|             SARDINA| 21.70900621118013|  483|\n",
      "|              CARMEN|           TAMARINDO| 35.89857142857144|  140|\n",
      "|CARMEN           ...|   GELATINA EN POLVO| 8.766451612903227|  372|\n",
      "|CENTRO           ...|         CARNE POLLO| 37.24464129756706| 1603|\n",
      "|         CHIAUTEMPAN|   GELATINA EN POLVO|             8.682|   50|\n",
      "|COACALCO         ...| PESCADO SECO SALADO|             169.0|    3|\n",
      "|             CORDOBA|     PASTA PARA SOPA|4.3707142857142856|   14|\n",
      "|CUAUTITLAN IZCALL...|     HARINA DE TRIGO| 12.16482062780269|  446|\n",
      "|CUERNAVACA       ...|   DETERGENTE P/ROPA| 36.53684114424834| 1643|\n",
      "|         GUADALAJARA|      CHILES EN LATA| 9.643615733736759| 5288|\n",
      "|GUADALAJARA      ...|         PAN DE CAJA|22.353343829198987|13021|\n",
      "|GUADALUPE        ...|             SARDINA| 19.58596973865199|  727|\n",
      "|             GUASAVE|            FRIJOLES|13.386818181818187|  264|\n",
      "|          HERMOSILLO|DETERGENTE P/ROPA...| 78.07953629032262|  496|\n",
      "|HERMOSILLO       ...|      CHILES EN LATA| 8.487356505831238| 8746|\n",
      "|HUAMANTLA        ...|DETERGENTE PARA R...|12.193323262839879|  331|\n",
      "|HUAMANTLA        ...|     PASTA PARA SOPA|  4.14110766847405| 1291|\n",
      "|        HUIXQUILUCAN|         CARNE CERDO| 83.04973319103519|  937|\n",
      "+--------------------+--------------------+------------------+-----+\n",
      "only showing top 20 rows\n",
      "\n"
     ]
    }
   ],
   "source": [
    "df_2b_p1.show()"
   ]
  },
  {
   "cell_type": "markdown",
   "metadata": {},
   "source": [
    "Ahora sumamos todos los precios por municipio para ver los municipios mas caros."
   ]
  },
  {
   "cell_type": "code",
   "execution_count": 159,
   "metadata": {},
   "outputs": [],
   "source": [
    "df_2b_p2 = df_2b_p1.groupby(\"municipio\").agg(f.sum(\"precios\").alias(\"precio_canasta_basica\"), f.count(\"*\").alias(\"#Productos_de_Canasta_Basica_en_municipio\"))"
   ]
  },
  {
   "cell_type": "code",
   "execution_count": 160,
   "metadata": {},
   "outputs": [
    {
     "name": "stdout",
     "output_type": "stream",
     "text": [
      "+----------------------------------------+---------------------+-----------------------------------------+\n",
      "|municipio                               |precio_canasta_basica|#Productos_de_Canasta_Basica_en_municipio|\n",
      "+----------------------------------------+---------------------+-----------------------------------------+\n",
      "|MEXICALI                                |1785.5871519287894   |47                                       |\n",
      "|LOS CABOS                               |1726.993092050568    |48                                       |\n",
      "|VENUSTIANO CARRANZA                     |1688.8507621325627   |49                                       |\n",
      "|TORREÓN                                 |1685.0270595262728   |47                                       |\n",
      "|DURANGO                                 |1679.8943152948207   |47                                       |\n",
      "|GUASAVE                                 |1679.7569762392611   |49                                       |\n",
      "|ZAPOPAN                                 |1664.8566965040043   |49                                       |\n",
      "|LA PAZ                                  |1664.459191254715    |47                                       |\n",
      "|COLIMA                                  |1662.7663155581686   |49                                       |\n",
      "|TLAXCALA                                |1660.8298391984642   |50                                       |\n",
      "|GÓMEZ PALACIO                           |1655.6264270737067   |46                                       |\n",
      "|BENITO JUAREZ                           |1652.0393787191222   |49                                       |\n",
      "|CULIACAN                                |1638.671733675732    |49                                       |\n",
      "|NAUCALPAN                               |1630.9353244826568   |48                                       |\n",
      "|CUAUTITLAN IZCALLI                      |1626.2436562647738   |48                                       |\n",
      "|GUSTAVO A. MADERO                       |1625.4658514819016   |48                                       |\n",
      "|MERIDA                                  |1623.5790957104566   |49                                       |\n",
      "|ZACATECAS                               |1623.2869669305092   |49                                       |\n",
      "|CULIACÁN                                |1618.1552639208617   |47                                       |\n",
      "|COYOACAN                                |1617.3455147649418   |49                                       |\n",
      "+----------------------------------------+---------------------+-----------------------------------------+\n",
      "only showing top 20 rows\n",
      "\n"
     ]
    }
   ],
   "source": [
    "df_2b_p2.sort(\"precio_canasta_basica\", ascending = False).show(truncate = False)"
   ]
  },
  {
   "cell_type": "markdown",
   "metadata": {},
   "source": [
    "El municipio más caro es Mexicali, por lo tanto la ciudad más cara es Mexicali por lo que tiene la canasta básica más cara."
   ]
  },
  {
   "cell_type": "markdown",
   "metadata": {},
   "source": [
    "Para calcular la ciudad más barata me voy a asegurar que la ciudad más barata por lo menos cuente con 45 productos de la canasta básica por eso las siguientes operaciones."
   ]
  },
  {
   "cell_type": "code",
   "execution_count": 161,
   "metadata": {},
   "outputs": [],
   "source": [
    "updated = df_2b_p2.filter(f.col(\"#Productos_de_Canasta_Basica_en_municipio\") > 45)"
   ]
  },
  {
   "cell_type": "code",
   "execution_count": 162,
   "metadata": {},
   "outputs": [
    {
     "name": "stdout",
     "output_type": "stream",
     "text": [
      "+----------------------------------------+---------------------+-----------------------------------------+\n",
      "|municipio                               |precio_canasta_basica|#Productos_de_Canasta_Basica_en_municipio|\n",
      "+----------------------------------------+---------------------+-----------------------------------------+\n",
      "|APODACA                                 |1221.5399727191593   |46                                       |\n",
      "|BOCA DEL RIO                            |1270.3544425317684   |46                                       |\n",
      "|HUAMANTLA                               |1281.7243774010647   |49                                       |\n",
      "|APIZACO                                 |1300.5699651554348   |49                                       |\n",
      "|PACHUCA DE SOTO                         |1312.1143172556672   |46                                       |\n",
      "|ZACATELCO                               |1325.8177124906322   |50                                       |\n",
      "|VERACRUZ                                |1326.6861922081923   |47                                       |\n",
      "|HUAMANTLA                               |1332.9103944920234   |46                                       |\n",
      "|ATIZAPAN                                |1334.1977388693522   |47                                       |\n",
      "|AGUASCALIENTES                          |1336.3817094974434   |46                                       |\n",
      "|PUERTO VALLARTA                         |1347.0844985362871   |46                                       |\n",
      "|XOCHIMILCO                              |1350.461311287227    |46                                       |\n",
      "|LAGOS DE MORENO                         |1380.8220639872397   |47                                       |\n",
      "|CHIAUTEMPAN                             |1386.8070010740187   |50                                       |\n",
      "|DURANGO                                 |1416.5634829638955   |48                                       |\n",
      "|HUIXQUILUCAN                            |1418.8897486719065   |47                                       |\n",
      "|OAXACA DE JUAREZ                        |1425.4539738117057   |48                                       |\n",
      "|CUERNAVACA                              |1426.0413949582785   |46                                       |\n",
      "|MAGDALENA CONTRERAS                     |1432.6204557774915   |46                                       |\n",
      "|OJINAGA                                 |1437.2150299617247   |46                                       |\n",
      "+----------------------------------------+---------------------+-----------------------------------------+\n",
      "only showing top 20 rows\n",
      "\n"
     ]
    }
   ],
   "source": [
    "updated.sort(\"precio_canasta_basica\").show(truncate = False)"
   ]
  },
  {
   "cell_type": "markdown",
   "metadata": {},
   "source": [
    "El municipio con la canasta básica más barata es Apodaca la cual forma parte de de la zona Metropolitana de Monterrey haciendo Monterrey la ciudad más barata en terminos de la canasta básica. Sin embargo es importante destacar que hay varios municipios que no contaban con una lista completa de productos de la canasta básica."
   ]
  },
  {
   "cell_type": "markdown",
   "metadata": {},
   "source": [
    "### c. ¿Hay algún patrón estacional entre años?\n"
   ]
  },
  {
   "cell_type": "code",
   "execution_count": 184,
   "metadata": {},
   "outputs": [],
   "source": [
    "df_2c = df.filter(f.col(\"producto\").isin(canasta_basica))"
   ]
  },
  {
   "cell_type": "code",
   "execution_count": 185,
   "metadata": {},
   "outputs": [],
   "source": [
    "df_2c_p1 = df_2c.groupby(\"fechaRegistro\", \"producto\").agg(f.avg(\"precio\").alias(\"precios\"))"
   ]
  },
  {
   "cell_type": "code",
   "execution_count": 186,
   "metadata": {},
   "outputs": [],
   "source": [
    "df_2c_p2 = df_2c_p1.groupby(\"fechaRegistro\").agg(f.sum(\"precios\").alias(\"precio_canasta_basica\"), f.count(\"*\").alias(\"#Productos_de_Canasta_Basica_en_estado\"))"
   ]
  },
  {
   "cell_type": "code",
   "execution_count": 197,
   "metadata": {},
   "outputs": [],
   "source": [
    "df_2c_p2 = df_2c_p2.sort(\"fechaRegistro\")"
   ]
  },
  {
   "cell_type": "code",
   "execution_count": 198,
   "metadata": {},
   "outputs": [
    {
     "name": "stdout",
     "output_type": "stream",
     "text": [
      "+-------------------+---------------------+--------------------------------------+\n",
      "|fechaRegistro      |precio_canasta_basica|#Productos_de_Canasta_Basica_en_estado|\n",
      "+-------------------+---------------------+--------------------------------------+\n",
      "|2011-01-03 00:00:00|1225.6567456907612   |46                                    |\n",
      "|2011-01-04 00:00:00|1247.0001802083166   |46                                    |\n",
      "|2011-01-05 00:00:00|1195.6834057976414   |48                                    |\n",
      "|2011-01-06 00:00:00|1239.07038397612     |47                                    |\n",
      "|2011-01-07 00:00:00|1217.6799480607913   |48                                    |\n",
      "|2011-01-10 00:00:00|1247.413442257753    |48                                    |\n",
      "|2011-01-11 00:00:00|1222.3125294409895   |48                                    |\n",
      "|2011-01-12 00:00:00|1225.481626355863    |47                                    |\n",
      "|2011-01-13 00:00:00|1242.955488281625    |47                                    |\n",
      "|2011-01-14 00:00:00|1185.7608429194445   |46                                    |\n",
      "|2011-01-15 00:00:00|596.7807777777778    |24                                    |\n",
      "|2011-01-17 00:00:00|1239.7369019862017   |47                                    |\n",
      "|2011-01-18 00:00:00|1214.2444781771133   |47                                    |\n",
      "|2011-01-19 00:00:00|1210.6771632353039   |47                                    |\n",
      "|2011-01-20 00:00:00|1227.1748387270338   |47                                    |\n",
      "|2011-01-21 00:00:00|1236.2675713963622   |48                                    |\n",
      "|2011-01-22 00:00:00|575.8048160173159    |23                                    |\n",
      "|2011-01-24 00:00:00|1230.8075189844087   |46                                    |\n",
      "|2011-01-25 00:00:00|1231.5871992047023   |46                                    |\n",
      "|2011-01-26 00:00:00|1220.271355991868    |47                                    |\n",
      "+-------------------+---------------------+--------------------------------------+\n",
      "only showing top 20 rows\n",
      "\n"
     ]
    }
   ],
   "source": [
    "df_2c_p2.show(truncate = False)"
   ]
  },
  {
   "cell_type": "code",
   "execution_count": 188,
   "metadata": {},
   "outputs": [
    {
     "data": {
      "text/plain": [
       "1409870"
      ]
     },
     "execution_count": 188,
     "metadata": {},
     "output_type": "execute_result"
    }
   ],
   "source": [
    "df_2c_p2.count()"
   ]
  },
  {
   "cell_type": "code",
   "execution_count": 199,
   "metadata": {},
   "outputs": [],
   "source": [
    "# dfdf_2c_p2f = df_2c_p2.toPandas()\n",
    "# dfdf_2c_p2f "
   ]
  },
  {
   "cell_type": "code",
   "execution_count": 200,
   "metadata": {},
   "outputs": [
    {
     "data": {
      "image/png": "[encoded data removed]",
      "text/plain": [
       "<Figure size 432x288 with 1 Axes>"
      ]
     },
     "metadata": {
      "needs_background": "light"
     },
     "output_type": "display_data"
    }
   ],
   "source": [
    "y_ans_val = [val.precio_canasta_basica for val in df_2c_p2.select('precio_canasta_basica').collect()]\n",
    "x_ts = [val.fechaRegistro  for val in df_2c_p2.select('fechaRegistro').collect()]\n",
    "\n",
    "plt.plot(x_ts, y_ans_val)\n",
    "\n",
    "plt.ylabel('precio_canasta_basica $MXN')\n",
    "plt.xlabel('fechaRegistro')\n",
    "plt.title('precio_canasta_basica vs. tiempo')\n",
    "plt.legend(['precio_canasta_basica'], loc='upper left')\n",
    "\n",
    "plt.show()"
   ]
  },
  {
   "cell_type": "markdown",
   "metadata": {},
   "source": [
    "Hay un patrón estacional donde se ve claramente que hay un incremento en la canasta básica en diciembre. El patrón estacional indica que la canasta básica en México ha ido incrementando en su precio de 2011 hasta finales del 2015. Luego a finales de 2015 bajó para despues volver a subir.  como la ultima fecha registrada es en 2016-04-29 17:47:2, entonces no se ve el incrementode diciembre para el 2016."
   ]
  },
  {
   "cell_type": "markdown",
   "metadata": {},
   "source": [
    "### d. ¿Cuál es el estado más caro y en qué mes?"
   ]
  },
  {
   "cell_type": "code",
   "execution_count": 175,
   "metadata": {},
   "outputs": [],
   "source": [
    "df_2d = df.filter(f.col(\"producto\").isin(canasta_basica))"
   ]
  },
  {
   "cell_type": "code",
   "execution_count": 176,
   "metadata": {},
   "outputs": [],
   "source": [
    "df_2d_p1 = df_2d.groupby(\"estado\", \"producto\").agg(f.avg(\"precio\").alias(\"precios\"))"
   ]
  },
  {
   "cell_type": "code",
   "execution_count": 177,
   "metadata": {},
   "outputs": [],
   "source": [
    "df_2d_p2 = df_2d_p1.groupby(\"estado\").agg(f.sum(\"precios\").alias(\"precio_canasta_basica\"), f.count(\"*\").alias(\"#Productos_de_Canasta_Basica_en_estado\"))"
   ]
  },
  {
   "cell_type": "code",
   "execution_count": 178,
   "metadata": {},
   "outputs": [
    {
     "name": "stdout",
     "output_type": "stream",
     "text": [
      "+--------------------+---------------------+--------------------------------------+\n",
      "|estado              |precio_canasta_basica|#Productos_de_Canasta_Basica_en_estado|\n",
      "+--------------------+---------------------+--------------------------------------+\n",
      "|BAJA CALIFORNIA     |1798.630646273868    |48                                    |\n",
      "|DURANGO             |1783.9164888438468   |49                                    |\n",
      "|COLIMA              |1712.7976289824123   |49                                    |\n",
      "|SINALOA             |1712.1481342051377   |49                                    |\n",
      "|DISTRITO FEDERAL    |1684.9309186805956   |49                                    |\n",
      "|ZACATECAS           |1684.4312326444988   |49                                    |\n",
      "|COAHUILA DE ZARAGOZA|1682.7780480483543   |48                                    |\n",
      "|BAJA CALIFORNIA SUR |1680.8668210166315   |48                                    |\n",
      "|YUCATÁN             |1665.1219255149695   |49                                    |\n",
      "|JALISCO             |1650.9415919030537   |49                                    |\n",
      "|QUERÉTARO           |1646.6478153081443   |49                                    |\n",
      "|GUANAJUATO          |1641.13270170426     |49                                    |\n",
      "|MÉXICO              |1635.7906218271485   |49                                    |\n",
      "|PUEBLA              |1612.9366565925452   |48                                    |\n",
      "|TAMAULIPAS          |1610.6768257552797   |47                                    |\n",
      "|SONORA              |1607.5791324351997   |49                                    |\n",
      "|MICHOACÁN DE OCAMPO |1605.7472377014656   |49                                    |\n",
      "|TABASCO             |1602.479210412137    |48                                    |\n",
      "|SAN LUIS POTOSÍ     |1594.491912626724    |47                                    |\n",
      "|CHIHUAHUA           |1580.4106222798566   |47                                    |\n",
      "+--------------------+---------------------+--------------------------------------+\n",
      "only showing top 20 rows\n",
      "\n"
     ]
    }
   ],
   "source": [
    "df_2d_p2.sort(\"precio_canasta_basica\", ascending = False).show(truncate = False)"
   ]
  },
  {
   "cell_type": "markdown",
   "metadata": {},
   "source": [
    "A como podemos ver arriba el estado más caro es Baja California lo cual es consecuente con nuestro hayazgo que la ciudad más cara es Mexicali porque Mexicali precisamente se encuentra en Baja California."
   ]
  },
  {
   "cell_type": "code",
   "execution_count": 179,
   "metadata": {},
   "outputs": [],
   "source": [
    "df_2d = df_2d.withColumn('mes', f.month('fechaRegistro'))"
   ]
  },
  {
   "cell_type": "code",
   "execution_count": 180,
   "metadata": {},
   "outputs": [],
   "source": [
    "df_2d_p2 = df_2d.filter(f.col(\"estado\") == 'BAJA CALIFORNIA')"
   ]
  },
  {
   "cell_type": "code",
   "execution_count": 181,
   "metadata": {},
   "outputs": [],
   "source": [
    "df_2d_p2f = df_2d_p2.groupby(\"mes\", \"producto\").agg(f.avg(\"precio\").alias(\"precios\"))"
   ]
  },
  {
   "cell_type": "code",
   "execution_count": 182,
   "metadata": {},
   "outputs": [],
   "source": [
    "df_2d_p2f2 = df_2d_p2f.groupby(\"mes\").agg(f.sum(\"precios\").alias(\"precio_canasta_basica\"), f.count(\"*\").alias(\"#Productos_de_Canasta_Basica_en_mes\"))"
   ]
  },
  {
   "cell_type": "code",
   "execution_count": 183,
   "metadata": {},
   "outputs": [
    {
     "name": "stdout",
     "output_type": "stream",
     "text": [
      "+---+---------------------+-----------------------------------+\n",
      "|mes|precio_canasta_basica|#Productos_de_Canasta_Basica_en_mes|\n",
      "+---+---------------------+-----------------------------------+\n",
      "|12 |1816.9796409031076   |48                                 |\n",
      "|11 |1609.0574968019068   |47                                 |\n",
      "|1  |1528.58494117274     |46                                 |\n",
      "|2  |1528.521519278823    |46                                 |\n",
      "|3  |1522.4804600877562   |46                                 |\n",
      "|4  |1520.72767373831     |46                                 |\n",
      "|5  |1515.7272519689127   |46                                 |\n",
      "|10 |1505.2750970081413   |46                                 |\n",
      "|9  |1492.9235468973782   |46                                 |\n",
      "|8  |1490.6694202105868   |46                                 |\n",
      "|6  |1482.2951727815816   |46                                 |\n",
      "|7  |1480.6614183435825   |46                                 |\n",
      "+---+---------------------+-----------------------------------+\n",
      "\n"
     ]
    }
   ],
   "source": [
    "df_2d_p2f2.sort(\"precio_canasta_basica\", ascending = False).show(truncate = False)"
   ]
  },
  {
   "cell_type": "markdown",
   "metadata": {},
   "source": [
    "A como podemos ver con la columna del mes, el mes más caro en Baja California es el mes 12 el cual es diciembre."
   ]
  },
  {
   "cell_type": "markdown",
   "metadata": {},
   "source": [
    "### e. ¿Cuáles son los principales riesgos de hacer análisis de series de tiempo con estos datos?\n"
   ]
  },
  {
   "cell_type": "markdown",
   "metadata": {},
   "source": [
    "Los principales reiesgos de hacer un analisis de tiempo con estos datos es que estan disponibles el mismo numero de productos de la canasta básica durante cada intervalo de tiempo en la base de datos. La frecuancia de los datos no es horaria entonces habría que hacer que toda la serie de tiempo tenga la misma frecuencia y ajustar los precios de manera apropriada. También no se esta tomando en cuenta un factor de inflación regional ni temporal lo cual cambiaría el precio de esta canasta básica."
   ]
  },
  {
   "cell_type": "markdown",
   "metadata": {},
   "source": [
    "### 3. Visualización a. Genera un mapa que nos permita identificar la oferta de categorías en la zona metropolitana de León Guanajuato y el nivel de precios en cada una de ellas. Se darán puntos extra si el mapa es interactivo"
   ]
  },
  {
   "cell_type": "markdown",
   "metadata": {},
   "source": [
    "La visualización se encuentra en un pdf en este folder llamado:"
   ]
  },
  {
   "cell_type": "code",
   "execution_count": 202,
   "metadata": {},
   "outputs": [],
   "source": [
    "df_3a = df.groupby(\"estado\",\"municipio\").agg(f.count(\"*\").alias(\"cantidad\"))"
   ]
  },
  {
   "cell_type": "code",
   "execution_count": 203,
   "metadata": {},
   "outputs": [],
   "source": [
    "df_3a1 = df_3a.filter(f.col(\"estado\") == \"GUANAJUATO\")"
   ]
  },
  {
   "cell_type": "code",
   "execution_count": 204,
   "metadata": {},
   "outputs": [
    {
     "name": "stdout",
     "output_type": "stream",
     "text": [
      "+----------+----------------------------------------+--------+\n",
      "|estado    |municipio                               |cantidad|\n",
      "+----------+----------------------------------------+--------+\n",
      "|GUANAJUATO|LEÓN                                    |729987  |\n",
      "|GUANAJUATO|LEON                                    |1908469 |\n",
      "+----------+----------------------------------------+--------+\n",
      "\n"
     ]
    }
   ],
   "source": [
    "df_3a1.show(50, truncate = False)"
   ]
  },
  {
   "cell_type": "markdown",
   "metadata": {},
   "source": [
    "Arriba estan los municipio del estado de Guanajuato. Como son el mismo municipio voy a hacer que tengan el mismo nombre"
   ]
  },
  {
   "cell_type": "code",
   "execution_count": 205,
   "metadata": {},
   "outputs": [],
   "source": [
    "df3a2 = df.withColumn(\"municipio\", when(df.municipio == \"LEÓN\",\"LEON\"))"
   ]
  },
  {
   "cell_type": "markdown",
   "metadata": {},
   "source": [
    "Vamos a utilizar las siguientes columnas para los datos"
   ]
  },
  {
   "cell_type": "code",
   "execution_count": 206,
   "metadata": {},
   "outputs": [],
   "source": [
    "df_Leon = df3a2.filter(f.col(\"municipio\") == \"LEON\").select(\"estado\", \"municipio\", \"categoria\", \"precio\", \"latitud\", \"longitud\")"
   ]
  },
  {
   "cell_type": "code",
   "execution_count": 208,
   "metadata": {},
   "outputs": [
    {
     "name": "stdout",
     "output_type": "stream",
     "text": [
      "+----------+---------+--------------------+------+---------+-----------+\n",
      "|    estado|municipio|           categoria|precio|  latitud|   longitud|\n",
      "+----------+---------+--------------------+------+---------+-----------+\n",
      "|GUANAJUATO|     LEON|TORTILLAS Y DERIV...|  10.0|21.141389|-101.687397|\n",
      "|GUANAJUATO|     LEON|TORTILLAS Y DERIV...|  23.0|21.141389|-101.687397|\n",
      "|GUANAJUATO|     LEON|                 PAN|   1.5|21.141389|-101.687397|\n",
      "|GUANAJUATO|     LEON|                 PAN|  28.0|21.141389|-101.687397|\n",
      "|GUANAJUATO|     LEON|                 PAN| 17.43|21.141389|-101.687397|\n",
      "|GUANAJUATO|     LEON|                 PAN| 31.58|21.141389|-101.687397|\n",
      "|GUANAJUATO|     LEON|                 PAN| 29.65|21.141389|-101.687397|\n",
      "|GUANAJUATO|     LEON|                 PAN|  24.7|21.141389|-101.687397|\n",
      "|GUANAJUATO|     LEON|                 PAN|  12.9|21.141389|-101.687397|\n",
      "|GUANAJUATO|     LEON|         CIGARRILLOS|  16.0|21.141389|-101.687397|\n",
      "|GUANAJUATO|     LEON|GALLETAS PASTAS Y...|  13.9|21.141389|-101.687397|\n",
      "|GUANAJUATO|     LEON|                 PAN| 11.05|21.141389|-101.687397|\n",
      "|GUANAJUATO|     LEON|TORTILLAS Y DERIV...| 17.72|21.141389|-101.687397|\n",
      "|GUANAJUATO|     LEON|GALLETAS PASTAS Y...| 45.32|21.141389|-101.687397|\n",
      "|GUANAJUATO|     LEON|ARROZ Y CEREALES ...|  16.9|21.141389|-101.687397|\n",
      "|GUANAJUATO|     LEON|  DERIVADOS DE LECHE| 19.15|21.141389|-101.687397|\n",
      "|GUANAJUATO|     LEON|  DERIVADOS DE LECHE| 15.73|21.141389|-101.687397|\n",
      "|GUANAJUATO|     LEON|ARROZ Y CEREALES ...|  48.3|21.141389|-101.687397|\n",
      "|GUANAJUATO|     LEON|ARROZ Y CEREALES ...| 33.23|21.141389|-101.687397|\n",
      "|GUANAJUATO|     LEON|ARROZ Y CEREALES ...|  29.3|21.141389|-101.687397|\n",
      "+----------+---------+--------------------+------+---------+-----------+\n",
      "only showing top 20 rows\n",
      "\n"
     ]
    }
   ],
   "source": [
    "df_Leon.show()"
   ]
  },
  {
   "cell_type": "code",
   "execution_count": 209,
   "metadata": {},
   "outputs": [
    {
     "data": {
      "text/plain": [
       "729987"
      ]
     },
     "execution_count": 209,
     "metadata": {},
     "output_type": "execute_result"
    }
   ],
   "source": [
    "df_Leon.count()"
   ]
  },
  {
   "cell_type": "code",
   "execution_count": 211,
   "metadata": {},
   "outputs": [],
   "source": [
    "df_Leon.toPandas().to_csv('leon_guanajuato.csv')"
   ]
  },
  {
   "cell_type": "markdown",
   "metadata": {},
   "source": [
    "Dentro de este folder se encuentra el mapa interactivo generado en Tableau y su PDF homologo. LLamados Guanajuato_visualizacion.twb y Guanajuato_visualizacion.pdf respectivamente."
   ]
  },
  {
   "cell_type": "code",
   "execution_count": null,
   "metadata": {},
   "outputs": [],
   "source": [
    "# To kill the Spark application, use the `stop()` method\n",
    "spark.stop()"
   ]
  }
 ],
 "metadata": {
  "kernelspec": {
   "display_name": "Python 3",
   "language": "python",
   "name": "python3"
  },
  "language_info": {
   "codemirror_mode": {
    "name": "ipython",
    "version": 3
   },
   "file_extension": ".py",
   "mimetype": "text/x-python",
   "name": "python",
   "nbconvert_exporter": "python",
   "pygments_lexer": "ipython3",
   "version": "3.7.3"
  }
 },
 "nbformat": 4,
 "nbformat_minor": 2
}
