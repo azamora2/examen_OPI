{
 "cells": [
  {
   "cell_type": "code",
   "execution_count": 1,
   "id": "789b4f79",
   "metadata": {},
   "outputs": [],
   "source": [
    "import pandas as pd"
   ]
  },
  {
   "cell_type": "code",
   "execution_count": 2,
   "id": "c907f000",
   "metadata": {},
   "outputs": [
    {
     "data": {
      "text/html": [
       "<div>\n",
       "<style scoped>\n",
       "    .dataframe tbody tr th:only-of-type {\n",
       "        vertical-align: middle;\n",
       "    }\n",
       "\n",
       "    .dataframe tbody tr th {\n",
       "        vertical-align: top;\n",
       "    }\n",
       "\n",
       "    .dataframe thead th {\n",
       "        text-align: right;\n",
       "    }\n",
       "</style>\n",
       "<table border=\"1\" class=\"dataframe\">\n",
       "  <thead>\n",
       "    <tr style=\"text-align: right;\">\n",
       "      <th></th>\n",
       "      <th>id (store)</th>\n",
       "      <th>year</th>\n",
       "      <th>month</th>\n",
       "      <th>week</th>\n",
       "      <th>usa</th>\n",
       "      <th>after</th>\n",
       "      <th>sales</th>\n",
       "    </tr>\n",
       "  </thead>\n",
       "  <tbody>\n",
       "    <tr>\n",
       "      <th>0</th>\n",
       "      <td>1</td>\n",
       "      <td>2011</td>\n",
       "      <td>4</td>\n",
       "      <td>16</td>\n",
       "      <td>0</td>\n",
       "      <td>0</td>\n",
       "      <td>118,691</td>\n",
       "    </tr>\n",
       "    <tr>\n",
       "      <th>1</th>\n",
       "      <td>1</td>\n",
       "      <td>2011</td>\n",
       "      <td>4</td>\n",
       "      <td>17</td>\n",
       "      <td>0</td>\n",
       "      <td>0</td>\n",
       "      <td>113,804</td>\n",
       "    </tr>\n",
       "    <tr>\n",
       "      <th>2</th>\n",
       "      <td>1</td>\n",
       "      <td>2011</td>\n",
       "      <td>4</td>\n",
       "      <td>18</td>\n",
       "      <td>0</td>\n",
       "      <td>0</td>\n",
       "      <td>172,104</td>\n",
       "    </tr>\n",
       "    <tr>\n",
       "      <th>3</th>\n",
       "      <td>1</td>\n",
       "      <td>2011</td>\n",
       "      <td>5</td>\n",
       "      <td>19</td>\n",
       "      <td>0</td>\n",
       "      <td>0</td>\n",
       "      <td>105,591</td>\n",
       "    </tr>\n",
       "    <tr>\n",
       "      <th>4</th>\n",
       "      <td>1</td>\n",
       "      <td>2011</td>\n",
       "      <td>5</td>\n",
       "      <td>20</td>\n",
       "      <td>0</td>\n",
       "      <td>0</td>\n",
       "      <td>94,884</td>\n",
       "    </tr>\n",
       "    <tr>\n",
       "      <th>...</th>\n",
       "      <td>...</td>\n",
       "      <td>...</td>\n",
       "      <td>...</td>\n",
       "      <td>...</td>\n",
       "      <td>...</td>\n",
       "      <td>...</td>\n",
       "      <td>...</td>\n",
       "    </tr>\n",
       "    <tr>\n",
       "      <th>4531</th>\n",
       "      <td>169</td>\n",
       "      <td>2012</td>\n",
       "      <td>3</td>\n",
       "      <td>12</td>\n",
       "      <td>1</td>\n",
       "      <td>1</td>\n",
       "      <td>56,331</td>\n",
       "    </tr>\n",
       "    <tr>\n",
       "      <th>4532</th>\n",
       "      <td>169</td>\n",
       "      <td>2012</td>\n",
       "      <td>3</td>\n",
       "      <td>13</td>\n",
       "      <td>1</td>\n",
       "      <td>1</td>\n",
       "      <td>74,388</td>\n",
       "    </tr>\n",
       "    <tr>\n",
       "      <th>4533</th>\n",
       "      <td>169</td>\n",
       "      <td>2012</td>\n",
       "      <td>3</td>\n",
       "      <td>14</td>\n",
       "      <td>1</td>\n",
       "      <td>1</td>\n",
       "      <td>67,671</td>\n",
       "    </tr>\n",
       "    <tr>\n",
       "      <th>4534</th>\n",
       "      <td>169</td>\n",
       "      <td>2012</td>\n",
       "      <td>4</td>\n",
       "      <td>15</td>\n",
       "      <td>1</td>\n",
       "      <td>1</td>\n",
       "      <td>50,140</td>\n",
       "    </tr>\n",
       "    <tr>\n",
       "      <th>4535</th>\n",
       "      <td>169</td>\n",
       "      <td>2012</td>\n",
       "      <td>4</td>\n",
       "      <td>16</td>\n",
       "      <td>1</td>\n",
       "      <td>1</td>\n",
       "      <td>75,023</td>\n",
       "    </tr>\n",
       "  </tbody>\n",
       "</table>\n",
       "<p>4536 rows × 7 columns</p>\n",
       "</div>"
      ],
      "text/plain": [
       "      id (store)  year  month  week  usa  after   sales \n",
       "0              1  2011      4    16    0      0  118,691\n",
       "1              1  2011      4    17    0      0  113,804\n",
       "2              1  2011      4    18    0      0  172,104\n",
       "3              1  2011      5    19    0      0  105,591\n",
       "4              1  2011      5    20    0      0   94,884\n",
       "...          ...   ...    ...   ...  ...    ...      ...\n",
       "4531         169  2012      3    12    1      1   56,331\n",
       "4532         169  2012      3    13    1      1   74,388\n",
       "4533         169  2012      3    14    1      1   67,671\n",
       "4534         169  2012      4    15    1      1   50,140\n",
       "4535         169  2012      4    16    1      1   75,023\n",
       "\n",
       "[4536 rows x 7 columns]"
      ]
     },
     "execution_count": 2,
     "metadata": {},
     "output_type": "execute_result"
    }
   ],
   "source": [
    "raw_df = pd.read_csv(\"bops_bm.csv\")\n",
    "raw_df "
   ]
  },
  {
   "cell_type": "code",
   "execution_count": 3,
   "id": "de02c88d",
   "metadata": {},
   "outputs": [],
   "source": [
    "df = raw_df.copy().replace(',', '', regex=True)"
   ]
  },
  {
   "cell_type": "markdown",
   "id": "55bccfe2",
   "metadata": {},
   "source": [
    "###  B&M sales Analysis"
   ]
  },
  {
   "cell_type": "code",
   "execution_count": 4,
   "id": "4730ebb1",
   "metadata": {},
   "outputs": [],
   "source": [
    "before_bops_df = df[df['after'] == 0].reset_index(drop = True)\n",
    "after_bops_df = df[df['after'] == 1].reset_index(drop = True)"
   ]
  },
  {
   "cell_type": "markdown",
   "id": "e5409620",
   "metadata": {},
   "source": [
    "La cantidad de dinero generado por ventas antes de BOPS en B&M fue:"
   ]
  },
  {
   "cell_type": "code",
   "execution_count": 5,
   "id": "283fad35",
   "metadata": {},
   "outputs": [
    {
     "data": {
      "text/plain": [
       "153421128"
      ]
     },
     "execution_count": 5,
     "metadata": {},
     "output_type": "execute_result"
    }
   ],
   "source": [
    "len(before_bops_df)*67646"
   ]
  },
  {
   "cell_type": "markdown",
   "id": "a45ea718",
   "metadata": {},
   "source": [
    "153,421,128 $"
   ]
  },
  {
   "cell_type": "markdown",
   "id": "cc826694",
   "metadata": {},
   "source": [
    "La cantidad de dinero generado por ventas despues de BOPS en B&M fue:"
   ]
  },
  {
   "cell_type": "code",
   "execution_count": 6,
   "id": "04d749bc",
   "metadata": {},
   "outputs": [
    {
     "data": {
      "text/plain": [
       "136309068"
      ]
     },
     "execution_count": 6,
     "metadata": {},
     "output_type": "execute_result"
    }
   ],
   "source": [
    "len(after_bops_df)*60101"
   ]
  },
  {
   "cell_type": "markdown",
   "id": "42f91179",
   "metadata": {},
   "source": [
    "136,309,068 $"
   ]
  },
  {
   "cell_type": "markdown",
   "id": "86a79dd3",
   "metadata": {},
   "source": [
    "Esto consiste en una pérdida de:"
   ]
  },
  {
   "cell_type": "code",
   "execution_count": 7,
   "id": "611e6e21",
   "metadata": {},
   "outputs": [
    {
     "data": {
      "text/plain": [
       "17112060"
      ]
     },
     "execution_count": 7,
     "metadata": {},
     "output_type": "execute_result"
    }
   ],
   "source": [
    "loss_BM = len(before_bops_df)*67646-len(after_bops_df)*60101\n",
    "loss_BM "
   ]
  },
  {
   "cell_type": "markdown",
   "id": "198cffc5",
   "metadata": {},
   "source": [
    "17,112,060 $"
   ]
  },
  {
   "cell_type": "markdown",
   "id": "35c08473",
   "metadata": {},
   "source": [
    "### Online sales analysis"
   ]
  },
  {
   "cell_type": "code",
   "execution_count": 8,
   "id": "c5148e87",
   "metadata": {},
   "outputs": [
    {
     "data": {
      "text/html": [
       "<div>\n",
       "<style scoped>\n",
       "    .dataframe tbody tr th:only-of-type {\n",
       "        vertical-align: middle;\n",
       "    }\n",
       "\n",
       "    .dataframe tbody tr th {\n",
       "        vertical-align: top;\n",
       "    }\n",
       "\n",
       "    .dataframe thead th {\n",
       "        text-align: right;\n",
       "    }\n",
       "</style>\n",
       "<table border=\"1\" class=\"dataframe\">\n",
       "  <thead>\n",
       "    <tr style=\"text-align: right;\">\n",
       "      <th></th>\n",
       "      <th>id (DMA)</th>\n",
       "      <th>year</th>\n",
       "      <th>month</th>\n",
       "      <th>week</th>\n",
       "      <th>after</th>\n",
       "      <th>close</th>\n",
       "      <th>sales</th>\n",
       "    </tr>\n",
       "  </thead>\n",
       "  <tbody>\n",
       "    <tr>\n",
       "      <th>0</th>\n",
       "      <td>1</td>\n",
       "      <td>2011</td>\n",
       "      <td>4</td>\n",
       "      <td>17</td>\n",
       "      <td>0</td>\n",
       "      <td>1</td>\n",
       "      <td>18564</td>\n",
       "    </tr>\n",
       "    <tr>\n",
       "      <th>1</th>\n",
       "      <td>1</td>\n",
       "      <td>2011</td>\n",
       "      <td>4</td>\n",
       "      <td>18</td>\n",
       "      <td>0</td>\n",
       "      <td>1</td>\n",
       "      <td>30883</td>\n",
       "    </tr>\n",
       "    <tr>\n",
       "      <th>2</th>\n",
       "      <td>1</td>\n",
       "      <td>2011</td>\n",
       "      <td>5</td>\n",
       "      <td>19</td>\n",
       "      <td>0</td>\n",
       "      <td>1</td>\n",
       "      <td>37425</td>\n",
       "    </tr>\n",
       "    <tr>\n",
       "      <th>3</th>\n",
       "      <td>1</td>\n",
       "      <td>2011</td>\n",
       "      <td>5</td>\n",
       "      <td>20</td>\n",
       "      <td>0</td>\n",
       "      <td>1</td>\n",
       "      <td>32563</td>\n",
       "    </tr>\n",
       "    <tr>\n",
       "      <th>4</th>\n",
       "      <td>1</td>\n",
       "      <td>2011</td>\n",
       "      <td>5</td>\n",
       "      <td>21</td>\n",
       "      <td>0</td>\n",
       "      <td>1</td>\n",
       "      <td>35773</td>\n",
       "    </tr>\n",
       "    <tr>\n",
       "      <th>...</th>\n",
       "      <td>...</td>\n",
       "      <td>...</td>\n",
       "      <td>...</td>\n",
       "      <td>...</td>\n",
       "      <td>...</td>\n",
       "      <td>...</td>\n",
       "      <td>...</td>\n",
       "    </tr>\n",
       "    <tr>\n",
       "      <th>10705</th>\n",
       "      <td>210</td>\n",
       "      <td>2012</td>\n",
       "      <td>2</td>\n",
       "      <td>10</td>\n",
       "      <td>1</td>\n",
       "      <td>0</td>\n",
       "      <td>9357</td>\n",
       "    </tr>\n",
       "    <tr>\n",
       "      <th>10706</th>\n",
       "      <td>210</td>\n",
       "      <td>2012</td>\n",
       "      <td>3</td>\n",
       "      <td>11</td>\n",
       "      <td>1</td>\n",
       "      <td>0</td>\n",
       "      <td>3013</td>\n",
       "    </tr>\n",
       "    <tr>\n",
       "      <th>10707</th>\n",
       "      <td>210</td>\n",
       "      <td>2012</td>\n",
       "      <td>3</td>\n",
       "      <td>12</td>\n",
       "      <td>1</td>\n",
       "      <td>0</td>\n",
       "      <td>3155</td>\n",
       "    </tr>\n",
       "    <tr>\n",
       "      <th>10708</th>\n",
       "      <td>210</td>\n",
       "      <td>2012</td>\n",
       "      <td>3</td>\n",
       "      <td>13</td>\n",
       "      <td>1</td>\n",
       "      <td>0</td>\n",
       "      <td>2925</td>\n",
       "    </tr>\n",
       "    <tr>\n",
       "      <th>10709</th>\n",
       "      <td>210</td>\n",
       "      <td>2012</td>\n",
       "      <td>3</td>\n",
       "      <td>14</td>\n",
       "      <td>1</td>\n",
       "      <td>0</td>\n",
       "      <td>3701</td>\n",
       "    </tr>\n",
       "  </tbody>\n",
       "</table>\n",
       "<p>10710 rows × 7 columns</p>\n",
       "</div>"
      ],
      "text/plain": [
       "       id (DMA)  year  month  week  after  close sales \n",
       "0             1  2011      4    17      0      1  18564\n",
       "1             1  2011      4    18      0      1  30883\n",
       "2             1  2011      5    19      0      1  37425\n",
       "3             1  2011      5    20      0      1  32563\n",
       "4             1  2011      5    21      0      1  35773\n",
       "...         ...   ...    ...   ...    ...    ...    ...\n",
       "10705       210  2012      2    10      1      0   9357\n",
       "10706       210  2012      3    11      1      0   3013\n",
       "10707       210  2012      3    12      1      0   3155\n",
       "10708       210  2012      3    13      1      0   2925\n",
       "10709       210  2012      3    14      1      0   3701\n",
       "\n",
       "[10710 rows x 7 columns]"
      ]
     },
     "execution_count": 8,
     "metadata": {},
     "output_type": "execute_result"
    }
   ],
   "source": [
    "raw_df2 = pd.read_csv(\"bops_online.csv\")\n",
    "# raw_df2 = raw_df2[['id (DMA)','year','month','week','after','close', 'sales']]\n",
    "df2 = raw_df2.iloc[:,0:7].copy().replace(',', '', regex=True)\n",
    "df2"
   ]
  },
  {
   "cell_type": "code",
   "execution_count": 9,
   "id": "9a498c87",
   "metadata": {},
   "outputs": [],
   "source": [
    "before_bops_df2 = df2[df2['after'] == 0].reset_index(drop = True)\n",
    "after_bops_df2 = df2[df2['after'] == 1].reset_index(drop = True)"
   ]
  },
  {
   "cell_type": "markdown",
   "id": "1fa11672",
   "metadata": {},
   "source": [
    "La cantidad de dinero generado en ventas online antes de BOPS fue:"
   ]
  },
  {
   "cell_type": "markdown",
   "id": "6966ef7d",
   "metadata": {},
   "source": [
    "14,738 $ es el promedio generado por ventas antes de desplegar BOPS"
   ]
  },
  {
   "cell_type": "code",
   "execution_count": 10,
   "id": "a678d2bf",
   "metadata": {},
   "outputs": [
    {
     "data": {
      "text/plain": [
       "80469480"
      ]
     },
     "execution_count": 10,
     "metadata": {},
     "output_type": "execute_result"
    }
   ],
   "source": [
    "len(before_bops_df2)*14738"
   ]
  },
  {
   "cell_type": "markdown",
   "id": "55097fa3",
   "metadata": {},
   "source": [
    "80,469,480 $"
   ]
  },
  {
   "cell_type": "markdown",
   "id": "3029aa57",
   "metadata": {},
   "source": [
    "12,734 $ es el promedio generado por ventas despues de desplegar BOPS"
   ]
  },
  {
   "cell_type": "markdown",
   "id": "fa429571",
   "metadata": {},
   "source": [
    "La cantidad de dinero generado por ventas online despues de BOPS fue:"
   ]
  },
  {
   "cell_type": "code",
   "execution_count": 11,
   "id": "e4b95741",
   "metadata": {},
   "outputs": [
    {
     "data": {
      "text/plain": [
       "66853500"
      ]
     },
     "execution_count": 11,
     "metadata": {},
     "output_type": "execute_result"
    }
   ],
   "source": [
    "len(after_bops_df2)*12734"
   ]
  },
  {
   "cell_type": "markdown",
   "id": "fe83d5b5",
   "metadata": {},
   "source": [
    "66,853,500 $"
   ]
  },
  {
   "cell_type": "markdown",
   "id": "355f9d04",
   "metadata": {},
   "source": [
    "Esto consiste en una pérdida de:"
   ]
  },
  {
   "cell_type": "code",
   "execution_count": 35,
   "id": "a7807108",
   "metadata": {},
   "outputs": [
    {
     "data": {
      "text/plain": [
       "13615980"
      ]
     },
     "execution_count": 35,
     "metadata": {},
     "output_type": "execute_result"
    }
   ],
   "source": [
    "loss_online = len(before_bops_df2)*14738-len(after_bops_df2)*12734\n",
    "loss_online"
   ]
  },
  {
   "cell_type": "markdown",
   "id": "8c7b1ffa",
   "metadata": {},
   "source": [
    "13,615,980 $"
   ]
  },
  {
   "cell_type": "markdown",
   "id": "3fb38b8c",
   "metadata": {},
   "source": [
    "Ahora sumamos las pérdidas online más las pérdidas en B&M para saber cuanto dinero se perdió a partir del programa."
   ]
  },
  {
   "cell_type": "code",
   "execution_count": 36,
   "id": "efa07d05",
   "metadata": {},
   "outputs": [
    {
     "data": {
      "text/plain": [
       "30728040"
      ]
     },
     "execution_count": 36,
     "metadata": {},
     "output_type": "execute_result"
    }
   ],
   "source": [
    "perdidas_totales = loss_online+ loss_BM\n",
    "perdidas_totales"
   ]
  },
  {
   "cell_type": "markdown",
   "id": "2547e294",
   "metadata": {},
   "source": [
    "### 2. ¿Cuántos millones de dólares se ganaron o perdieron a partir del programa? Explica tu razonamiento y metodología."
   ]
  },
  {
   "cell_type": "markdown",
   "id": "fc64a735",
   "metadata": {},
   "source": [
    "En base a la metodología empleada en las celdas de arriba, a partir del programa se perdieron 30.728040 millones de dolares."
   ]
  },
  {
   "cell_type": "markdown",
   "id": "bde10000",
   "metadata": {},
   "source": [
    "### Expansion a Canada"
   ]
  },
  {
   "cell_type": "code",
   "execution_count": 14,
   "id": "12db9314",
   "metadata": {},
   "outputs": [],
   "source": [
    "canada_df = df[df['usa'] == 0]\n",
    "canada_df_before = canada_df[canada_df['after'] == 0]\n",
    "canada_df_after = canada_df[canada_df['after'] == 1]"
   ]
  },
  {
   "cell_type": "code",
   "execution_count": 15,
   "id": "d36342f8",
   "metadata": {},
   "outputs": [],
   "source": [
    "# canada_df_before.iloc[:,6] = canada_df_before.iloc[:,6].replace(',', '', regex=True))\n",
    "# canada_df_after.iloc[:,6] = canada_df_after.iloc[:,6].replace(',', '', regex=True))"
   ]
  },
  {
   "cell_type": "code",
   "execution_count": 16,
   "id": "a00d5d48",
   "metadata": {},
   "outputs": [
    {
     "name": "stderr",
     "output_type": "stream",
     "text": [
      "<ipython-input-16-f1340f394688>:1: SettingWithCopyWarning: \n",
      "A value is trying to be set on a copy of a slice from a DataFrame.\n",
      "Try using .loc[row_indexer,col_indexer] = value instead\n",
      "\n",
      "See the caveats in the documentation: https://pandas.pydata.org/pandas-docs/stable/user_guide/indexing.html#returning-a-view-versus-a-copy\n",
      "  canada_df_before['sales'] = pd.to_numeric(canada_df_before.iloc[:,6],errors='coerce')\n",
      "<ipython-input-16-f1340f394688>:2: SettingWithCopyWarning: \n",
      "A value is trying to be set on a copy of a slice from a DataFrame.\n",
      "Try using .loc[row_indexer,col_indexer] = value instead\n",
      "\n",
      "See the caveats in the documentation: https://pandas.pydata.org/pandas-docs/stable/user_guide/indexing.html#returning-a-view-versus-a-copy\n",
      "  canada_df_after['sales'] = pd.to_numeric(canada_df_after.iloc[:,6],errors='coerce')\n"
     ]
    }
   ],
   "source": [
    "canada_df_before['sales'] = pd.to_numeric(canada_df_before.iloc[:,6],errors='coerce')\n",
    "canada_df_after['sales'] = pd.to_numeric(canada_df_after.iloc[:,6],errors='coerce')\n",
    "# df['DataFrame Column'] = pd.to_numeric(df['DataFrame Column'],errors='coerce')"
   ]
  },
  {
   "cell_type": "markdown",
   "id": "adc991b4",
   "metadata": {},
   "source": [
    "### Abajo se puede ver el promedio de las ventas antes y despues de que se implementara BOPS"
   ]
  },
  {
   "cell_type": "code",
   "execution_count": 17,
   "id": "93f9f148",
   "metadata": {},
   "outputs": [
    {
     "data": {
      "text/plain": [
       "66862.25925925926"
      ]
     },
     "execution_count": 17,
     "metadata": {},
     "output_type": "execute_result"
    }
   ],
   "source": [
    "canada_df_before['sales'].mean()"
   ]
  },
  {
   "cell_type": "code",
   "execution_count": 18,
   "id": "c91a54d6",
   "metadata": {},
   "outputs": [
    {
     "data": {
      "text/plain": [
       "56325.23965141612"
      ]
     },
     "execution_count": 18,
     "metadata": {},
     "output_type": "execute_result"
    }
   ],
   "source": [
    "canada_df_after['sales'].mean()"
   ]
  },
  {
   "cell_type": "markdown",
   "id": "5cc14023",
   "metadata": {},
   "source": [
    "En Canadá se redujeron las ventas por este porcentaje:"
   ]
  },
  {
   "cell_type": "code",
   "execution_count": 19,
   "id": "9ce8fe01",
   "metadata": {},
   "outputs": [
    {
     "data": {
      "text/plain": [
       "0.15759293395973514"
      ]
     },
     "execution_count": 19,
     "metadata": {},
     "output_type": "execute_result"
    }
   ],
   "source": [
    "(canada_df_before['sales'].mean()-canada_df_after['sales'].mean())/canada_df_before['sales'].mean()"
   ]
  },
  {
   "cell_type": "code",
   "execution_count": 20,
   "id": "e6bc4af7",
   "metadata": {},
   "outputs": [],
   "source": [
    "usa_df = df[df['usa'] == 1]\n",
    "usa_df_before = usa_df[usa_df['after'] == 0]\n",
    "usa_df_after = usa_df[usa_df['after'] == 1]"
   ]
  },
  {
   "cell_type": "code",
   "execution_count": 21,
   "id": "c4851b51",
   "metadata": {},
   "outputs": [
    {
     "name": "stderr",
     "output_type": "stream",
     "text": [
      "<ipython-input-21-d601a8a2d055>:1: SettingWithCopyWarning: \n",
      "A value is trying to be set on a copy of a slice from a DataFrame.\n",
      "Try using .loc[row_indexer,col_indexer] = value instead\n",
      "\n",
      "See the caveats in the documentation: https://pandas.pydata.org/pandas-docs/stable/user_guide/indexing.html#returning-a-view-versus-a-copy\n",
      "  usa_df_before['sales'] = pd.to_numeric(usa_df_before.iloc[:,6],errors='coerce')\n",
      "<ipython-input-21-d601a8a2d055>:2: SettingWithCopyWarning: \n",
      "A value is trying to be set on a copy of a slice from a DataFrame.\n",
      "Try using .loc[row_indexer,col_indexer] = value instead\n",
      "\n",
      "See the caveats in the documentation: https://pandas.pydata.org/pandas-docs/stable/user_guide/indexing.html#returning-a-view-versus-a-copy\n",
      "  usa_df_after['sales'] = pd.to_numeric(usa_df_after.iloc[:,6],errors='coerce')\n"
     ]
    }
   ],
   "source": [
    "usa_df_before['sales'] = pd.to_numeric(usa_df_before.iloc[:,6],errors='coerce')\n",
    "usa_df_after['sales'] = pd.to_numeric(usa_df_after.iloc[:,6],errors='coerce')"
   ]
  },
  {
   "cell_type": "code",
   "execution_count": 22,
   "id": "b2c665c3",
   "metadata": {},
   "outputs": [
    {
     "data": {
      "text/plain": [
       "67844.49695964622"
      ]
     },
     "execution_count": 22,
     "metadata": {},
     "output_type": "execute_result"
    }
   ],
   "source": [
    "usa_df_before['sales'].mean()"
   ]
  },
  {
   "cell_type": "code",
   "execution_count": 23,
   "id": "2d4929ab",
   "metadata": {},
   "outputs": [
    {
     "data": {
      "text/plain": [
       "61058.9325594251"
      ]
     },
     "execution_count": 23,
     "metadata": {},
     "output_type": "execute_result"
    }
   ],
   "source": [
    "usa_df_after['sales'].mean()"
   ]
  },
  {
   "cell_type": "markdown",
   "id": "35facf29",
   "metadata": {},
   "source": [
    "En estados unidos se redujeron las ventas por este porcentage:"
   ]
  },
  {
   "cell_type": "code",
   "execution_count": 24,
   "id": "e4ce9081",
   "metadata": {},
   "outputs": [
    {
     "data": {
      "text/plain": [
       "0.1000164302825793"
      ]
     },
     "execution_count": 24,
     "metadata": {},
     "output_type": "execute_result"
    }
   ],
   "source": [
    "(usa_df_before['sales'].mean()-usa_df_after['sales'].mean())/usa_df_before['sales'].mean()"
   ]
  },
  {
   "cell_type": "markdown",
   "id": "54d3ed21",
   "metadata": {},
   "source": [
    "### Online Sales analysis"
   ]
  },
  {
   "cell_type": "code",
   "execution_count": 29,
   "id": "98a22e10",
   "metadata": {},
   "outputs": [],
   "source": [
    "far_df = df2[df2['close'] == 0]\n",
    "far_df_before = far_df[far_df['after'] == 0]\n",
    "far_df_after = far_df[far_df['after'] == 1]"
   ]
  },
  {
   "cell_type": "code",
   "execution_count": 30,
   "id": "e5b5f960",
   "metadata": {},
   "outputs": [
    {
     "name": "stderr",
     "output_type": "stream",
     "text": [
      "<ipython-input-30-0c018d99226b>:1: SettingWithCopyWarning: \n",
      "A value is trying to be set on a copy of a slice from a DataFrame.\n",
      "Try using .loc[row_indexer,col_indexer] = value instead\n",
      "\n",
      "See the caveats in the documentation: https://pandas.pydata.org/pandas-docs/stable/user_guide/indexing.html#returning-a-view-versus-a-copy\n",
      "  far_df_before['sales'] = pd.to_numeric(far_df_before.iloc[:,6],errors='coerce')\n",
      "<ipython-input-30-0c018d99226b>:2: SettingWithCopyWarning: \n",
      "A value is trying to be set on a copy of a slice from a DataFrame.\n",
      "Try using .loc[row_indexer,col_indexer] = value instead\n",
      "\n",
      "See the caveats in the documentation: https://pandas.pydata.org/pandas-docs/stable/user_guide/indexing.html#returning-a-view-versus-a-copy\n",
      "  far_df_after['sales'] = pd.to_numeric(far_df_after.iloc[:,6],errors='coerce')\n"
     ]
    }
   ],
   "source": [
    "far_df_before['sales'] = pd.to_numeric(far_df_before.iloc[:,6],errors='coerce')\n",
    "far_df_after['sales'] = pd.to_numeric(far_df_after.iloc[:,6],errors='coerce')"
   ]
  },
  {
   "cell_type": "code",
   "execution_count": 31,
   "id": "1278c2ac",
   "metadata": {},
   "outputs": [
    {
     "data": {
      "text/plain": [
       "0.12057864485743752"
      ]
     },
     "execution_count": 31,
     "metadata": {},
     "output_type": "execute_result"
    }
   ],
   "source": [
    "(far_df_before['sales'].mean()-far_df_after['sales'].mean())/far_df_before['sales'].mean()"
   ]
  },
  {
   "cell_type": "code",
   "execution_count": 32,
   "id": "5eca52d2",
   "metadata": {},
   "outputs": [],
   "source": [
    "close_df = df2[df2['close'] == 1]\n",
    "close_df_before = close_df[close_df['after'] == 0]\n",
    "close_df_after = close_df[close_df['after'] == 1]"
   ]
  },
  {
   "cell_type": "code",
   "execution_count": 33,
   "id": "a427de58",
   "metadata": {},
   "outputs": [
    {
     "name": "stderr",
     "output_type": "stream",
     "text": [
      "<ipython-input-33-3427d153369b>:1: SettingWithCopyWarning: \n",
      "A value is trying to be set on a copy of a slice from a DataFrame.\n",
      "Try using .loc[row_indexer,col_indexer] = value instead\n",
      "\n",
      "See the caveats in the documentation: https://pandas.pydata.org/pandas-docs/stable/user_guide/indexing.html#returning-a-view-versus-a-copy\n",
      "  close_df_before['sales'] = pd.to_numeric(close_df_before.iloc[:,6],errors='coerce')\n",
      "<ipython-input-33-3427d153369b>:2: SettingWithCopyWarning: \n",
      "A value is trying to be set on a copy of a slice from a DataFrame.\n",
      "Try using .loc[row_indexer,col_indexer] = value instead\n",
      "\n",
      "See the caveats in the documentation: https://pandas.pydata.org/pandas-docs/stable/user_guide/indexing.html#returning-a-view-versus-a-copy\n",
      "  close_df_after['sales'] = pd.to_numeric(close_df_after.iloc[:,6],errors='coerce')\n"
     ]
    }
   ],
   "source": [
    "close_df_before['sales'] = pd.to_numeric(close_df_before.iloc[:,6],errors='coerce')\n",
    "close_df_after['sales'] = pd.to_numeric(close_df_after.iloc[:,6],errors='coerce')"
   ]
  },
  {
   "cell_type": "code",
   "execution_count": 34,
   "id": "7c2652c8",
   "metadata": {},
   "outputs": [
    {
     "data": {
      "text/plain": [
       "0.15484335054502593"
      ]
     },
     "execution_count": 34,
     "metadata": {},
     "output_type": "execute_result"
    }
   ],
   "source": [
    "(close_df_before['sales'].mean()-close_df_after['sales'].mean())/close_df_before['sales'].mean()"
   ]
  },
  {
   "cell_type": "markdown",
   "id": "307d8463",
   "metadata": {},
   "source": [
    "### 1. ¿Deberían expandirse a Canadá?"
   ]
  },
  {
   "cell_type": "markdown",
   "id": "237058e2",
   "metadata": {},
   "source": [
    "No deberían de expandirse a Canada porque BOPS no es una estrategía que le va a generar crecimiento en ventas a Home & Kitchen, puesto que desde que se comenzó a emplear no lo ha hecho. A pesar de que en Canadá hubo un mayor porcentage de decrecimiento en ventas comparado con USA, esto no es suficiente razón como para que sea alentador la idea de expandirse a Canadá. Sería más favorable mejorar los productos de Home & Kitchen e identificar otras estrategías para generar el crecimiento deseado. "
   ]
  },
  {
   "cell_type": "code",
   "execution_count": null,
   "id": "b5fd6407",
   "metadata": {},
   "outputs": [],
   "source": []
  }
 ],
 "metadata": {
  "kernelspec": {
   "display_name": "Python 3",
   "language": "python",
   "name": "python3"
  },
  "language_info": {
   "codemirror_mode": {
    "name": "ipython",
    "version": 3
   },
   "file_extension": ".py",
   "mimetype": "text/x-python",
   "name": "python",
   "nbconvert_exporter": "python",
   "pygments_lexer": "ipython3",
   "version": "3.8.3"
  }
 },
 "nbformat": 4,
 "nbformat_minor": 5
}
